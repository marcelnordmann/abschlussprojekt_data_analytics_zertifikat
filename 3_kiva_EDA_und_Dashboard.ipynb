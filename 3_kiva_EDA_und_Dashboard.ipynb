{
 "cells": [
  {
   "cell_type": "markdown",
   "id": "033011cd",
   "metadata": {},
   "source": [
    "# EDA"
   ]
  },
  {
   "cell_type": "markdown",
   "id": "192b6a19",
   "metadata": {},
   "source": [
    "## DF laden und Bibliotheken importieren"
   ]
  },
  {
   "cell_type": "code",
   "execution_count": 1,
   "id": "7d45e104",
   "metadata": {},
   "outputs": [
    {
     "data": {
      "text/html": [
       "<style>.container { width:80% !important; }</style>"
      ],
      "text/plain": [
       "<IPython.core.display.HTML object>"
      ]
     },
     "metadata": {},
     "output_type": "display_data"
    }
   ],
   "source": [
    "# Datenverarbeitung\n",
    "import pandas as pd\n",
    "\n",
    "# Visualisierung\n",
    "import plotly_express as px\n",
    "\n",
    "# für die Dash-App\n",
    "from dash import Dash\n",
    "from dash import dcc\n",
    "\n",
    "from dash import html\n",
    "\n",
    "from dash.dependencies import Input, Output\n",
    "\n",
    "# Future Warnings unterdrücken (für bessere Übersicht)\n",
    "import warnings\n",
    "warnings.simplefilter(action='ignore', category=FutureWarning)\n",
    "\n",
    "# Displaybreite anpassen\n",
    "from IPython.display import display, HTML\n",
    "display(HTML(\"<style>.container { width:80% !important; }</style>\"))"
   ]
  },
  {
   "cell_type": "code",
   "execution_count": 2,
   "id": "f03208bc",
   "metadata": {},
   "outputs": [
    {
     "data": {
      "text/html": [
       "<div>\n",
       "<style scoped>\n",
       "    .dataframe tbody tr th:only-of-type {\n",
       "        vertical-align: middle;\n",
       "    }\n",
       "\n",
       "    .dataframe tbody tr th {\n",
       "        vertical-align: top;\n",
       "    }\n",
       "\n",
       "    .dataframe thead th {\n",
       "        text-align: right;\n",
       "    }\n",
       "</style>\n",
       "<table border=\"1\" class=\"dataframe\">\n",
       "  <thead>\n",
       "    <tr style=\"text-align: right;\">\n",
       "      <th></th>\n",
       "      <th>funded_amount</th>\n",
       "      <th>loan_amount</th>\n",
       "      <th>completion_rate</th>\n",
       "      <th>activity</th>\n",
       "      <th>sector</th>\n",
       "      <th>country</th>\n",
       "      <th>term_in_months</th>\n",
       "      <th>lender_count</th>\n",
       "      <th>funded_amount_per_lender</th>\n",
       "      <th>borrower_count</th>\n",
       "      <th>borrower_genders_updated</th>\n",
       "      <th>repayment_interval</th>\n",
       "    </tr>\n",
       "  </thead>\n",
       "  <tbody>\n",
       "    <tr>\n",
       "      <th>0</th>\n",
       "      <td>300</td>\n",
       "      <td>300</td>\n",
       "      <td>1.0</td>\n",
       "      <td>Fruits &amp; Vegetables</td>\n",
       "      <td>Food</td>\n",
       "      <td>Pakistan</td>\n",
       "      <td>12</td>\n",
       "      <td>12</td>\n",
       "      <td>25.00</td>\n",
       "      <td>1</td>\n",
       "      <td>fe only</td>\n",
       "      <td>irregular</td>\n",
       "    </tr>\n",
       "    <tr>\n",
       "      <th>1</th>\n",
       "      <td>575</td>\n",
       "      <td>575</td>\n",
       "      <td>1.0</td>\n",
       "      <td>Rickshaw</td>\n",
       "      <td>Transportation</td>\n",
       "      <td>Pakistan</td>\n",
       "      <td>11</td>\n",
       "      <td>14</td>\n",
       "      <td>41.07</td>\n",
       "      <td>2</td>\n",
       "      <td>fe only</td>\n",
       "      <td>irregular</td>\n",
       "    </tr>\n",
       "    <tr>\n",
       "      <th>2</th>\n",
       "      <td>150</td>\n",
       "      <td>150</td>\n",
       "      <td>1.0</td>\n",
       "      <td>Transportation</td>\n",
       "      <td>Transportation</td>\n",
       "      <td>India</td>\n",
       "      <td>43</td>\n",
       "      <td>6</td>\n",
       "      <td>25.00</td>\n",
       "      <td>1</td>\n",
       "      <td>fe only</td>\n",
       "      <td>bullet</td>\n",
       "    </tr>\n",
       "    <tr>\n",
       "      <th>3</th>\n",
       "      <td>200</td>\n",
       "      <td>200</td>\n",
       "      <td>1.0</td>\n",
       "      <td>Embroidery</td>\n",
       "      <td>Arts</td>\n",
       "      <td>Pakistan</td>\n",
       "      <td>11</td>\n",
       "      <td>8</td>\n",
       "      <td>25.00</td>\n",
       "      <td>1</td>\n",
       "      <td>fe only</td>\n",
       "      <td>irregular</td>\n",
       "    </tr>\n",
       "    <tr>\n",
       "      <th>4</th>\n",
       "      <td>400</td>\n",
       "      <td>400</td>\n",
       "      <td>1.0</td>\n",
       "      <td>Milk Sales</td>\n",
       "      <td>Food</td>\n",
       "      <td>Pakistan</td>\n",
       "      <td>14</td>\n",
       "      <td>16</td>\n",
       "      <td>25.00</td>\n",
       "      <td>1</td>\n",
       "      <td>fe only</td>\n",
       "      <td>monthly</td>\n",
       "    </tr>\n",
       "    <tr>\n",
       "      <th>...</th>\n",
       "      <td>...</td>\n",
       "      <td>...</td>\n",
       "      <td>...</td>\n",
       "      <td>...</td>\n",
       "      <td>...</td>\n",
       "      <td>...</td>\n",
       "      <td>...</td>\n",
       "      <td>...</td>\n",
       "      <td>...</td>\n",
       "      <td>...</td>\n",
       "      <td>...</td>\n",
       "      <td>...</td>\n",
       "    </tr>\n",
       "    <tr>\n",
       "      <th>671199</th>\n",
       "      <td>0</td>\n",
       "      <td>25</td>\n",
       "      <td>0.0</td>\n",
       "      <td>Livestock</td>\n",
       "      <td>Agriculture</td>\n",
       "      <td>Paraguay</td>\n",
       "      <td>13</td>\n",
       "      <td>0</td>\n",
       "      <td>0.00</td>\n",
       "      <td>1</td>\n",
       "      <td>fe only</td>\n",
       "      <td>monthly</td>\n",
       "    </tr>\n",
       "    <tr>\n",
       "      <th>671200</th>\n",
       "      <td>0</td>\n",
       "      <td>25</td>\n",
       "      <td>0.0</td>\n",
       "      <td>Livestock</td>\n",
       "      <td>Agriculture</td>\n",
       "      <td>Paraguay</td>\n",
       "      <td>13</td>\n",
       "      <td>0</td>\n",
       "      <td>0.00</td>\n",
       "      <td>1</td>\n",
       "      <td>fe only</td>\n",
       "      <td>monthly</td>\n",
       "    </tr>\n",
       "    <tr>\n",
       "      <th>671201</th>\n",
       "      <td>25</td>\n",
       "      <td>25</td>\n",
       "      <td>1.0</td>\n",
       "      <td>Livestock</td>\n",
       "      <td>Agriculture</td>\n",
       "      <td>Kenya</td>\n",
       "      <td>13</td>\n",
       "      <td>1</td>\n",
       "      <td>25.00</td>\n",
       "      <td>1</td>\n",
       "      <td>fe only</td>\n",
       "      <td>monthly</td>\n",
       "    </tr>\n",
       "    <tr>\n",
       "      <th>671203</th>\n",
       "      <td>0</td>\n",
       "      <td>25</td>\n",
       "      <td>0.0</td>\n",
       "      <td>Livestock</td>\n",
       "      <td>Agriculture</td>\n",
       "      <td>Kenya</td>\n",
       "      <td>13</td>\n",
       "      <td>0</td>\n",
       "      <td>0.00</td>\n",
       "      <td>1</td>\n",
       "      <td>fe only</td>\n",
       "      <td>monthly</td>\n",
       "    </tr>\n",
       "    <tr>\n",
       "      <th>671204</th>\n",
       "      <td>0</td>\n",
       "      <td>25</td>\n",
       "      <td>0.0</td>\n",
       "      <td>Livestock</td>\n",
       "      <td>Agriculture</td>\n",
       "      <td>Kenya</td>\n",
       "      <td>13</td>\n",
       "      <td>0</td>\n",
       "      <td>0.00</td>\n",
       "      <td>1</td>\n",
       "      <td>fe only</td>\n",
       "      <td>monthly</td>\n",
       "    </tr>\n",
       "  </tbody>\n",
       "</table>\n",
       "<p>666984 rows × 12 columns</p>\n",
       "</div>"
      ],
      "text/plain": [
       "        funded_amount  loan_amount  completion_rate             activity  \\\n",
       "0                 300          300              1.0  Fruits & Vegetables   \n",
       "1                 575          575              1.0             Rickshaw   \n",
       "2                 150          150              1.0       Transportation   \n",
       "3                 200          200              1.0           Embroidery   \n",
       "4                 400          400              1.0           Milk Sales   \n",
       "...               ...          ...              ...                  ...   \n",
       "671199              0           25              0.0            Livestock   \n",
       "671200              0           25              0.0            Livestock   \n",
       "671201             25           25              1.0            Livestock   \n",
       "671203              0           25              0.0            Livestock   \n",
       "671204              0           25              0.0            Livestock   \n",
       "\n",
       "                sector   country  term_in_months  lender_count  \\\n",
       "0                 Food  Pakistan              12            12   \n",
       "1       Transportation  Pakistan              11            14   \n",
       "2       Transportation     India              43             6   \n",
       "3                 Arts  Pakistan              11             8   \n",
       "4                 Food  Pakistan              14            16   \n",
       "...                ...       ...             ...           ...   \n",
       "671199     Agriculture  Paraguay              13             0   \n",
       "671200     Agriculture  Paraguay              13             0   \n",
       "671201     Agriculture     Kenya              13             1   \n",
       "671203     Agriculture     Kenya              13             0   \n",
       "671204     Agriculture     Kenya              13             0   \n",
       "\n",
       "        funded_amount_per_lender  borrower_count borrower_genders_updated  \\\n",
       "0                          25.00               1                  fe only   \n",
       "1                          41.07               2                  fe only   \n",
       "2                          25.00               1                  fe only   \n",
       "3                          25.00               1                  fe only   \n",
       "4                          25.00               1                  fe only   \n",
       "...                          ...             ...                      ...   \n",
       "671199                      0.00               1                  fe only   \n",
       "671200                      0.00               1                  fe only   \n",
       "671201                     25.00               1                  fe only   \n",
       "671203                      0.00               1                  fe only   \n",
       "671204                      0.00               1                  fe only   \n",
       "\n",
       "       repayment_interval  \n",
       "0               irregular  \n",
       "1               irregular  \n",
       "2                  bullet  \n",
       "3               irregular  \n",
       "4                 monthly  \n",
       "...                   ...  \n",
       "671199            monthly  \n",
       "671200            monthly  \n",
       "671201            monthly  \n",
       "671203            monthly  \n",
       "671204            monthly  \n",
       "\n",
       "[666984 rows x 12 columns]"
      ]
     },
     "execution_count": 2,
     "metadata": {},
     "output_type": "execute_result"
    }
   ],
   "source": [
    "# pickle Datei einlesen und anzeigen\n",
    "df = pd.read_pickle('df_kiva_after_preprocessing.pkl')\n",
    "df"
   ]
  },
  {
   "cell_type": "markdown",
   "id": "e9f39ac4",
   "metadata": {},
   "source": [
    "## Themen identifizieren / Business Frage"
   ]
  },
  {
   "cell_type": "markdown",
   "id": "b3d6f839",
   "metadata": {},
   "source": [
    "Das Ziel ist eine explorative Datenanalyse zu machen, um Insights für unser Unternehmen zu generieren. Wir verdienen dabei unser Geld durch Provisionen pro Projekt, dass auf unserer Plattform landet. Im Endeffekt geht es uns also darum zu analysieren, wie wir mehr Kunden auf unsere Website bekommen und ein Projekt anmelden lassen.\n",
    "\n",
    "\n",
    "**Thema 1 - Projektverteilung.**<br>\n",
    "Wovon hängt die Anzahl angemeldeter Projekte ab? Wie können wir dieses Wissen nutzen, um die Gesamtzahl der Projekte zu steigern und unsere Provision zu erhöhen? Dazu starte ich mit der Sektorenverteilung. Welche Sektoren sind wie viele Projekte zugeordnet? Was macht diese Sektoren aus? Wovon sind sie abhängig?<br><br><br>\n",
    "\n",
    ">Ideensammlung für weitere Analysen:\n",
    ">- Analyse Geschlechterverteilung -> Abhängigkeiten?\n",
    ">- Erfüllungsgrad (funded amount / loan amount) -> Abhängigkeiten? -> guter Erfüllungsgrad = gutes Bild nach Außen (lohnt sich da anzufragen als borrower)\n",
    ">- mehrfach angefraget Projekte? -> mehrfache anfrage lässt ggf. auf Fehler bei Eingabe hindeuten?\n",
    ">- Höhe des ausgezahlten Betrags in Abhängigkeit von Länder, Geschlecht, ...\n",
    ">- Höhe Fund <-> Fund pro Kopf Zusammenhang?\n",
    ">- wie ist Balkendiagramm der Projektanzahl nach Sektoren, wenn man Erfüllungsgrad mit einbezieht?"
   ]
  },
  {
   "cell_type": "markdown",
   "id": "7daaa472",
   "metadata": {},
   "source": [
    "## Thema 1 - Projektverteilung"
   ]
  },
  {
   "cell_type": "markdown",
   "id": "4d594b7b",
   "metadata": {},
   "source": [
    "### Projekte pro Sektor"
   ]
  },
  {
   "cell_type": "markdown",
   "id": "bca7497c",
   "metadata": {},
   "source": [
    "Zunächst erstelle ich ein df, dass nach dem Sektor gruppiert ist und die Anzahl der Projekte auflistet."
   ]
  },
  {
   "cell_type": "code",
   "execution_count": 3,
   "id": "2fbcfb46",
   "metadata": {
    "scrolled": false
   },
   "outputs": [
    {
     "data": {
      "text/html": [
       "<div>\n",
       "<style scoped>\n",
       "    .dataframe tbody tr th:only-of-type {\n",
       "        vertical-align: middle;\n",
       "    }\n",
       "\n",
       "    .dataframe tbody tr th {\n",
       "        vertical-align: top;\n",
       "    }\n",
       "\n",
       "    .dataframe thead th {\n",
       "        text-align: right;\n",
       "    }\n",
       "</style>\n",
       "<table border=\"1\" class=\"dataframe\">\n",
       "  <thead>\n",
       "    <tr style=\"text-align: right;\">\n",
       "      <th></th>\n",
       "      <th>sector</th>\n",
       "      <th>number_of_projects</th>\n",
       "    </tr>\n",
       "  </thead>\n",
       "  <tbody>\n",
       "    <tr>\n",
       "      <th>0</th>\n",
       "      <td>Agriculture</td>\n",
       "      <td>179224</td>\n",
       "    </tr>\n",
       "    <tr>\n",
       "      <th>1</th>\n",
       "      <td>Food</td>\n",
       "      <td>135749</td>\n",
       "    </tr>\n",
       "    <tr>\n",
       "      <th>2</th>\n",
       "      <td>Retail</td>\n",
       "      <td>123758</td>\n",
       "    </tr>\n",
       "    <tr>\n",
       "      <th>3</th>\n",
       "      <td>Services</td>\n",
       "      <td>44699</td>\n",
       "    </tr>\n",
       "    <tr>\n",
       "      <th>4</th>\n",
       "      <td>Personal Use</td>\n",
       "      <td>36247</td>\n",
       "    </tr>\n",
       "    <tr>\n",
       "      <th>5</th>\n",
       "      <td>Housing</td>\n",
       "      <td>33571</td>\n",
       "    </tr>\n",
       "    <tr>\n",
       "      <th>6</th>\n",
       "      <td>Clothing</td>\n",
       "      <td>32480</td>\n",
       "    </tr>\n",
       "    <tr>\n",
       "      <th>7</th>\n",
       "      <td>Education</td>\n",
       "      <td>30837</td>\n",
       "    </tr>\n",
       "    <tr>\n",
       "      <th>8</th>\n",
       "      <td>Transportation</td>\n",
       "      <td>15455</td>\n",
       "    </tr>\n",
       "    <tr>\n",
       "      <th>9</th>\n",
       "      <td>Arts</td>\n",
       "      <td>11994</td>\n",
       "    </tr>\n",
       "    <tr>\n",
       "      <th>10</th>\n",
       "      <td>Health</td>\n",
       "      <td>9172</td>\n",
       "    </tr>\n",
       "    <tr>\n",
       "      <th>11</th>\n",
       "      <td>Construction</td>\n",
       "      <td>6194</td>\n",
       "    </tr>\n",
       "    <tr>\n",
       "      <th>12</th>\n",
       "      <td>Manufacturing</td>\n",
       "      <td>6158</td>\n",
       "    </tr>\n",
       "    <tr>\n",
       "      <th>13</th>\n",
       "      <td>Entertainment</td>\n",
       "      <td>820</td>\n",
       "    </tr>\n",
       "    <tr>\n",
       "      <th>14</th>\n",
       "      <td>Wholesale</td>\n",
       "      <td>626</td>\n",
       "    </tr>\n",
       "  </tbody>\n",
       "</table>\n",
       "</div>"
      ],
      "text/plain": [
       "            sector  number_of_projects\n",
       "0      Agriculture              179224\n",
       "1             Food              135749\n",
       "2           Retail              123758\n",
       "3         Services               44699\n",
       "4     Personal Use               36247\n",
       "5          Housing               33571\n",
       "6         Clothing               32480\n",
       "7        Education               30837\n",
       "8   Transportation               15455\n",
       "9             Arts               11994\n",
       "10          Health                9172\n",
       "11    Construction                6194\n",
       "12   Manufacturing                6158\n",
       "13   Entertainment                 820\n",
       "14       Wholesale                 626"
      ]
     },
     "execution_count": 3,
     "metadata": {},
     "output_type": "execute_result"
    }
   ],
   "source": [
    "# df nach sector gruppieren und die Anzahl der Projekte zählen\n",
    "df_nr_of_projects = df.groupby(by='sector').size().reset_index(name='number_of_projects')\n",
    "\n",
    "# df nach Anzahl der Projekte sortieren\n",
    "df_nr_of_projects.sort_values(by='number_of_projects', ascending=False, inplace=True)\n",
    "\n",
    "# df index zurücksetzen\n",
    "df_nr_of_projects.reset_index(drop=True, inplace=True)\n",
    "\n",
    "# df anzeigen\n",
    "df_nr_of_projects"
   ]
  },
  {
   "cell_type": "markdown",
   "id": "bb9f6627",
   "metadata": {},
   "source": [
    "Jetzt erstelle ich ein bar chart auf Basis dieses df. Mit einem bar chart kann man Verhältnisse von mehreren Gruppen gut erkennen."
   ]
  },
  {
   "cell_type": "code",
   "execution_count": 4,
   "id": "51189630",
   "metadata": {
    "scrolled": false
   },
   "outputs": [
    {
     "data": {
      "application/vnd.plotly.v1+json": {
       "config": {
        "plotlyServerURL": "https://plot.ly"
       },
       "data": [
        {
         "alignmentgroup": "True",
         "hovertemplate": "Sektoren=%{x}<br>Anzahl Projekte=%{y}<extra></extra>",
         "legendgroup": "Agriculture",
         "marker": {
          "color": "green",
          "pattern": {
           "shape": ""
          }
         },
         "name": "Agriculture",
         "offsetgroup": "Agriculture",
         "orientation": "v",
         "showlegend": true,
         "textposition": "auto",
         "type": "bar",
         "x": [
          "Agriculture"
         ],
         "xaxis": "x",
         "y": [
          179224
         ],
         "yaxis": "y"
        },
        {
         "alignmentgroup": "True",
         "hovertemplate": "Sektoren=%{x}<br>Anzahl Projekte=%{y}<extra></extra>",
         "legendgroup": "Food",
         "marker": {
          "color": "green",
          "pattern": {
           "shape": ""
          }
         },
         "name": "Food",
         "offsetgroup": "Food",
         "orientation": "v",
         "showlegend": true,
         "textposition": "auto",
         "type": "bar",
         "x": [
          "Food"
         ],
         "xaxis": "x",
         "y": [
          135749
         ],
         "yaxis": "y"
        },
        {
         "alignmentgroup": "True",
         "hovertemplate": "Sektoren=%{x}<br>Anzahl Projekte=%{y}<extra></extra>",
         "legendgroup": "Retail",
         "marker": {
          "color": "lightgray",
          "pattern": {
           "shape": ""
          }
         },
         "name": "Retail",
         "offsetgroup": "Retail",
         "orientation": "v",
         "showlegend": true,
         "textposition": "auto",
         "type": "bar",
         "x": [
          "Retail"
         ],
         "xaxis": "x",
         "y": [
          123758
         ],
         "yaxis": "y"
        },
        {
         "alignmentgroup": "True",
         "hovertemplate": "Sektoren=%{x}<br>Anzahl Projekte=%{y}<extra></extra>",
         "legendgroup": "Services",
         "marker": {
          "color": "lightgray",
          "pattern": {
           "shape": ""
          }
         },
         "name": "Services",
         "offsetgroup": "Services",
         "orientation": "v",
         "showlegend": true,
         "textposition": "auto",
         "type": "bar",
         "x": [
          "Services"
         ],
         "xaxis": "x",
         "y": [
          44699
         ],
         "yaxis": "y"
        },
        {
         "alignmentgroup": "True",
         "hovertemplate": "Sektoren=%{x}<br>Anzahl Projekte=%{y}<extra></extra>",
         "legendgroup": "Personal Use",
         "marker": {
          "color": "lightgray",
          "pattern": {
           "shape": ""
          }
         },
         "name": "Personal Use",
         "offsetgroup": "Personal Use",
         "orientation": "v",
         "showlegend": true,
         "textposition": "auto",
         "type": "bar",
         "x": [
          "Personal Use"
         ],
         "xaxis": "x",
         "y": [
          36247
         ],
         "yaxis": "y"
        },
        {
         "alignmentgroup": "True",
         "hovertemplate": "Sektoren=%{x}<br>Anzahl Projekte=%{y}<extra></extra>",
         "legendgroup": "Housing",
         "marker": {
          "color": "lightgray",
          "pattern": {
           "shape": ""
          }
         },
         "name": "Housing",
         "offsetgroup": "Housing",
         "orientation": "v",
         "showlegend": true,
         "textposition": "auto",
         "type": "bar",
         "x": [
          "Housing"
         ],
         "xaxis": "x",
         "y": [
          33571
         ],
         "yaxis": "y"
        },
        {
         "alignmentgroup": "True",
         "hovertemplate": "Sektoren=%{x}<br>Anzahl Projekte=%{y}<extra></extra>",
         "legendgroup": "Clothing",
         "marker": {
          "color": "lightgray",
          "pattern": {
           "shape": ""
          }
         },
         "name": "Clothing",
         "offsetgroup": "Clothing",
         "orientation": "v",
         "showlegend": true,
         "textposition": "auto",
         "type": "bar",
         "x": [
          "Clothing"
         ],
         "xaxis": "x",
         "y": [
          32480
         ],
         "yaxis": "y"
        },
        {
         "alignmentgroup": "True",
         "hovertemplate": "Sektoren=%{x}<br>Anzahl Projekte=%{y}<extra></extra>",
         "legendgroup": "Education",
         "marker": {
          "color": "lightgray",
          "pattern": {
           "shape": ""
          }
         },
         "name": "Education",
         "offsetgroup": "Education",
         "orientation": "v",
         "showlegend": true,
         "textposition": "auto",
         "type": "bar",
         "x": [
          "Education"
         ],
         "xaxis": "x",
         "y": [
          30837
         ],
         "yaxis": "y"
        },
        {
         "alignmentgroup": "True",
         "hovertemplate": "Sektoren=%{x}<br>Anzahl Projekte=%{y}<extra></extra>",
         "legendgroup": "Transportation",
         "marker": {
          "color": "lightgray",
          "pattern": {
           "shape": ""
          }
         },
         "name": "Transportation",
         "offsetgroup": "Transportation",
         "orientation": "v",
         "showlegend": true,
         "textposition": "auto",
         "type": "bar",
         "x": [
          "Transportation"
         ],
         "xaxis": "x",
         "y": [
          15455
         ],
         "yaxis": "y"
        },
        {
         "alignmentgroup": "True",
         "hovertemplate": "Sektoren=%{x}<br>Anzahl Projekte=%{y}<extra></extra>",
         "legendgroup": "Arts",
         "marker": {
          "color": "lightgray",
          "pattern": {
           "shape": ""
          }
         },
         "name": "Arts",
         "offsetgroup": "Arts",
         "orientation": "v",
         "showlegend": true,
         "textposition": "auto",
         "type": "bar",
         "x": [
          "Arts"
         ],
         "xaxis": "x",
         "y": [
          11994
         ],
         "yaxis": "y"
        },
        {
         "alignmentgroup": "True",
         "hovertemplate": "Sektoren=%{x}<br>Anzahl Projekte=%{y}<extra></extra>",
         "legendgroup": "Health",
         "marker": {
          "color": "lightgray",
          "pattern": {
           "shape": ""
          }
         },
         "name": "Health",
         "offsetgroup": "Health",
         "orientation": "v",
         "showlegend": true,
         "textposition": "auto",
         "type": "bar",
         "x": [
          "Health"
         ],
         "xaxis": "x",
         "y": [
          9172
         ],
         "yaxis": "y"
        },
        {
         "alignmentgroup": "True",
         "hovertemplate": "Sektoren=%{x}<br>Anzahl Projekte=%{y}<extra></extra>",
         "legendgroup": "Construction",
         "marker": {
          "color": "lightgray",
          "pattern": {
           "shape": ""
          }
         },
         "name": "Construction",
         "offsetgroup": "Construction",
         "orientation": "v",
         "showlegend": true,
         "textposition": "auto",
         "type": "bar",
         "x": [
          "Construction"
         ],
         "xaxis": "x",
         "y": [
          6194
         ],
         "yaxis": "y"
        },
        {
         "alignmentgroup": "True",
         "hovertemplate": "Sektoren=%{x}<br>Anzahl Projekte=%{y}<extra></extra>",
         "legendgroup": "Manufacturing",
         "marker": {
          "color": "lightgray",
          "pattern": {
           "shape": ""
          }
         },
         "name": "Manufacturing",
         "offsetgroup": "Manufacturing",
         "orientation": "v",
         "showlegend": true,
         "textposition": "auto",
         "type": "bar",
         "x": [
          "Manufacturing"
         ],
         "xaxis": "x",
         "y": [
          6158
         ],
         "yaxis": "y"
        },
        {
         "alignmentgroup": "True",
         "hovertemplate": "Sektoren=%{x}<br>Anzahl Projekte=%{y}<extra></extra>",
         "legendgroup": "Entertainment",
         "marker": {
          "color": "lightgray",
          "pattern": {
           "shape": ""
          }
         },
         "name": "Entertainment",
         "offsetgroup": "Entertainment",
         "orientation": "v",
         "showlegend": true,
         "textposition": "auto",
         "type": "bar",
         "x": [
          "Entertainment"
         ],
         "xaxis": "x",
         "y": [
          820
         ],
         "yaxis": "y"
        },
        {
         "alignmentgroup": "True",
         "hovertemplate": "Sektoren=%{x}<br>Anzahl Projekte=%{y}<extra></extra>",
         "legendgroup": "Wholesale",
         "marker": {
          "color": "lightgray",
          "pattern": {
           "shape": ""
          }
         },
         "name": "Wholesale",
         "offsetgroup": "Wholesale",
         "orientation": "v",
         "showlegend": true,
         "textposition": "auto",
         "type": "bar",
         "x": [
          "Wholesale"
         ],
         "xaxis": "x",
         "y": [
          626
         ],
         "yaxis": "y"
        }
       ],
       "layout": {
        "barmode": "relative",
        "legend": {
         "font": {
          "size": 12
         },
         "title": {
          "text": "Sektoren"
         },
         "tracegroupgap": 0
        },
        "template": {
         "data": {
          "bar": [
           {
            "error_x": {
             "color": "rgb(36,36,36)"
            },
            "error_y": {
             "color": "rgb(36,36,36)"
            },
            "marker": {
             "line": {
              "color": "white",
              "width": 0.5
             },
             "pattern": {
              "fillmode": "overlay",
              "size": 10,
              "solidity": 0.2
             }
            },
            "type": "bar"
           }
          ],
          "barpolar": [
           {
            "marker": {
             "line": {
              "color": "white",
              "width": 0.5
             },
             "pattern": {
              "fillmode": "overlay",
              "size": 10,
              "solidity": 0.2
             }
            },
            "type": "barpolar"
           }
          ],
          "carpet": [
           {
            "aaxis": {
             "endlinecolor": "rgb(36,36,36)",
             "gridcolor": "white",
             "linecolor": "white",
             "minorgridcolor": "white",
             "startlinecolor": "rgb(36,36,36)"
            },
            "baxis": {
             "endlinecolor": "rgb(36,36,36)",
             "gridcolor": "white",
             "linecolor": "white",
             "minorgridcolor": "white",
             "startlinecolor": "rgb(36,36,36)"
            },
            "type": "carpet"
           }
          ],
          "choropleth": [
           {
            "colorbar": {
             "outlinewidth": 1,
             "tickcolor": "rgb(36,36,36)",
             "ticks": "outside"
            },
            "type": "choropleth"
           }
          ],
          "contour": [
           {
            "colorbar": {
             "outlinewidth": 1,
             "tickcolor": "rgb(36,36,36)",
             "ticks": "outside"
            },
            "colorscale": [
             [
              0,
              "#440154"
             ],
             [
              0.1111111111111111,
              "#482878"
             ],
             [
              0.2222222222222222,
              "#3e4989"
             ],
             [
              0.3333333333333333,
              "#31688e"
             ],
             [
              0.4444444444444444,
              "#26828e"
             ],
             [
              0.5555555555555556,
              "#1f9e89"
             ],
             [
              0.6666666666666666,
              "#35b779"
             ],
             [
              0.7777777777777778,
              "#6ece58"
             ],
             [
              0.8888888888888888,
              "#b5de2b"
             ],
             [
              1,
              "#fde725"
             ]
            ],
            "type": "contour"
           }
          ],
          "contourcarpet": [
           {
            "colorbar": {
             "outlinewidth": 1,
             "tickcolor": "rgb(36,36,36)",
             "ticks": "outside"
            },
            "type": "contourcarpet"
           }
          ],
          "heatmap": [
           {
            "colorbar": {
             "outlinewidth": 1,
             "tickcolor": "rgb(36,36,36)",
             "ticks": "outside"
            },
            "colorscale": [
             [
              0,
              "#440154"
             ],
             [
              0.1111111111111111,
              "#482878"
             ],
             [
              0.2222222222222222,
              "#3e4989"
             ],
             [
              0.3333333333333333,
              "#31688e"
             ],
             [
              0.4444444444444444,
              "#26828e"
             ],
             [
              0.5555555555555556,
              "#1f9e89"
             ],
             [
              0.6666666666666666,
              "#35b779"
             ],
             [
              0.7777777777777778,
              "#6ece58"
             ],
             [
              0.8888888888888888,
              "#b5de2b"
             ],
             [
              1,
              "#fde725"
             ]
            ],
            "type": "heatmap"
           }
          ],
          "heatmapgl": [
           {
            "colorbar": {
             "outlinewidth": 1,
             "tickcolor": "rgb(36,36,36)",
             "ticks": "outside"
            },
            "colorscale": [
             [
              0,
              "#440154"
             ],
             [
              0.1111111111111111,
              "#482878"
             ],
             [
              0.2222222222222222,
              "#3e4989"
             ],
             [
              0.3333333333333333,
              "#31688e"
             ],
             [
              0.4444444444444444,
              "#26828e"
             ],
             [
              0.5555555555555556,
              "#1f9e89"
             ],
             [
              0.6666666666666666,
              "#35b779"
             ],
             [
              0.7777777777777778,
              "#6ece58"
             ],
             [
              0.8888888888888888,
              "#b5de2b"
             ],
             [
              1,
              "#fde725"
             ]
            ],
            "type": "heatmapgl"
           }
          ],
          "histogram": [
           {
            "marker": {
             "line": {
              "color": "white",
              "width": 0.6
             }
            },
            "type": "histogram"
           }
          ],
          "histogram2d": [
           {
            "colorbar": {
             "outlinewidth": 1,
             "tickcolor": "rgb(36,36,36)",
             "ticks": "outside"
            },
            "colorscale": [
             [
              0,
              "#440154"
             ],
             [
              0.1111111111111111,
              "#482878"
             ],
             [
              0.2222222222222222,
              "#3e4989"
             ],
             [
              0.3333333333333333,
              "#31688e"
             ],
             [
              0.4444444444444444,
              "#26828e"
             ],
             [
              0.5555555555555556,
              "#1f9e89"
             ],
             [
              0.6666666666666666,
              "#35b779"
             ],
             [
              0.7777777777777778,
              "#6ece58"
             ],
             [
              0.8888888888888888,
              "#b5de2b"
             ],
             [
              1,
              "#fde725"
             ]
            ],
            "type": "histogram2d"
           }
          ],
          "histogram2dcontour": [
           {
            "colorbar": {
             "outlinewidth": 1,
             "tickcolor": "rgb(36,36,36)",
             "ticks": "outside"
            },
            "colorscale": [
             [
              0,
              "#440154"
             ],
             [
              0.1111111111111111,
              "#482878"
             ],
             [
              0.2222222222222222,
              "#3e4989"
             ],
             [
              0.3333333333333333,
              "#31688e"
             ],
             [
              0.4444444444444444,
              "#26828e"
             ],
             [
              0.5555555555555556,
              "#1f9e89"
             ],
             [
              0.6666666666666666,
              "#35b779"
             ],
             [
              0.7777777777777778,
              "#6ece58"
             ],
             [
              0.8888888888888888,
              "#b5de2b"
             ],
             [
              1,
              "#fde725"
             ]
            ],
            "type": "histogram2dcontour"
           }
          ],
          "mesh3d": [
           {
            "colorbar": {
             "outlinewidth": 1,
             "tickcolor": "rgb(36,36,36)",
             "ticks": "outside"
            },
            "type": "mesh3d"
           }
          ],
          "parcoords": [
           {
            "line": {
             "colorbar": {
              "outlinewidth": 1,
              "tickcolor": "rgb(36,36,36)",
              "ticks": "outside"
             }
            },
            "type": "parcoords"
           }
          ],
          "pie": [
           {
            "automargin": true,
            "type": "pie"
           }
          ],
          "scatter": [
           {
            "fillpattern": {
             "fillmode": "overlay",
             "size": 10,
             "solidity": 0.2
            },
            "type": "scatter"
           }
          ],
          "scatter3d": [
           {
            "line": {
             "colorbar": {
              "outlinewidth": 1,
              "tickcolor": "rgb(36,36,36)",
              "ticks": "outside"
             }
            },
            "marker": {
             "colorbar": {
              "outlinewidth": 1,
              "tickcolor": "rgb(36,36,36)",
              "ticks": "outside"
             }
            },
            "type": "scatter3d"
           }
          ],
          "scattercarpet": [
           {
            "marker": {
             "colorbar": {
              "outlinewidth": 1,
              "tickcolor": "rgb(36,36,36)",
              "ticks": "outside"
             }
            },
            "type": "scattercarpet"
           }
          ],
          "scattergeo": [
           {
            "marker": {
             "colorbar": {
              "outlinewidth": 1,
              "tickcolor": "rgb(36,36,36)",
              "ticks": "outside"
             }
            },
            "type": "scattergeo"
           }
          ],
          "scattergl": [
           {
            "marker": {
             "colorbar": {
              "outlinewidth": 1,
              "tickcolor": "rgb(36,36,36)",
              "ticks": "outside"
             }
            },
            "type": "scattergl"
           }
          ],
          "scattermapbox": [
           {
            "marker": {
             "colorbar": {
              "outlinewidth": 1,
              "tickcolor": "rgb(36,36,36)",
              "ticks": "outside"
             }
            },
            "type": "scattermapbox"
           }
          ],
          "scatterpolar": [
           {
            "marker": {
             "colorbar": {
              "outlinewidth": 1,
              "tickcolor": "rgb(36,36,36)",
              "ticks": "outside"
             }
            },
            "type": "scatterpolar"
           }
          ],
          "scatterpolargl": [
           {
            "marker": {
             "colorbar": {
              "outlinewidth": 1,
              "tickcolor": "rgb(36,36,36)",
              "ticks": "outside"
             }
            },
            "type": "scatterpolargl"
           }
          ],
          "scatterternary": [
           {
            "marker": {
             "colorbar": {
              "outlinewidth": 1,
              "tickcolor": "rgb(36,36,36)",
              "ticks": "outside"
             }
            },
            "type": "scatterternary"
           }
          ],
          "surface": [
           {
            "colorbar": {
             "outlinewidth": 1,
             "tickcolor": "rgb(36,36,36)",
             "ticks": "outside"
            },
            "colorscale": [
             [
              0,
              "#440154"
             ],
             [
              0.1111111111111111,
              "#482878"
             ],
             [
              0.2222222222222222,
              "#3e4989"
             ],
             [
              0.3333333333333333,
              "#31688e"
             ],
             [
              0.4444444444444444,
              "#26828e"
             ],
             [
              0.5555555555555556,
              "#1f9e89"
             ],
             [
              0.6666666666666666,
              "#35b779"
             ],
             [
              0.7777777777777778,
              "#6ece58"
             ],
             [
              0.8888888888888888,
              "#b5de2b"
             ],
             [
              1,
              "#fde725"
             ]
            ],
            "type": "surface"
           }
          ],
          "table": [
           {
            "cells": {
             "fill": {
              "color": "rgb(237,237,237)"
             },
             "line": {
              "color": "white"
             }
            },
            "header": {
             "fill": {
              "color": "rgb(217,217,217)"
             },
             "line": {
              "color": "white"
             }
            },
            "type": "table"
           }
          ]
         },
         "layout": {
          "annotationdefaults": {
           "arrowhead": 0,
           "arrowwidth": 1
          },
          "autotypenumbers": "strict",
          "coloraxis": {
           "colorbar": {
            "outlinewidth": 1,
            "tickcolor": "rgb(36,36,36)",
            "ticks": "outside"
           }
          },
          "colorscale": {
           "diverging": [
            [
             0,
             "rgb(103,0,31)"
            ],
            [
             0.1,
             "rgb(178,24,43)"
            ],
            [
             0.2,
             "rgb(214,96,77)"
            ],
            [
             0.3,
             "rgb(244,165,130)"
            ],
            [
             0.4,
             "rgb(253,219,199)"
            ],
            [
             0.5,
             "rgb(247,247,247)"
            ],
            [
             0.6,
             "rgb(209,229,240)"
            ],
            [
             0.7,
             "rgb(146,197,222)"
            ],
            [
             0.8,
             "rgb(67,147,195)"
            ],
            [
             0.9,
             "rgb(33,102,172)"
            ],
            [
             1,
             "rgb(5,48,97)"
            ]
           ],
           "sequential": [
            [
             0,
             "#440154"
            ],
            [
             0.1111111111111111,
             "#482878"
            ],
            [
             0.2222222222222222,
             "#3e4989"
            ],
            [
             0.3333333333333333,
             "#31688e"
            ],
            [
             0.4444444444444444,
             "#26828e"
            ],
            [
             0.5555555555555556,
             "#1f9e89"
            ],
            [
             0.6666666666666666,
             "#35b779"
            ],
            [
             0.7777777777777778,
             "#6ece58"
            ],
            [
             0.8888888888888888,
             "#b5de2b"
            ],
            [
             1,
             "#fde725"
            ]
           ],
           "sequentialminus": [
            [
             0,
             "#440154"
            ],
            [
             0.1111111111111111,
             "#482878"
            ],
            [
             0.2222222222222222,
             "#3e4989"
            ],
            [
             0.3333333333333333,
             "#31688e"
            ],
            [
             0.4444444444444444,
             "#26828e"
            ],
            [
             0.5555555555555556,
             "#1f9e89"
            ],
            [
             0.6666666666666666,
             "#35b779"
            ],
            [
             0.7777777777777778,
             "#6ece58"
            ],
            [
             0.8888888888888888,
             "#b5de2b"
            ],
            [
             1,
             "#fde725"
            ]
           ]
          },
          "colorway": [
           "#1F77B4",
           "#FF7F0E",
           "#2CA02C",
           "#D62728",
           "#9467BD",
           "#8C564B",
           "#E377C2",
           "#7F7F7F",
           "#BCBD22",
           "#17BECF"
          ],
          "font": {
           "color": "rgb(36,36,36)"
          },
          "geo": {
           "bgcolor": "white",
           "lakecolor": "white",
           "landcolor": "white",
           "showlakes": true,
           "showland": true,
           "subunitcolor": "white"
          },
          "hoverlabel": {
           "align": "left"
          },
          "hovermode": "closest",
          "mapbox": {
           "style": "light"
          },
          "paper_bgcolor": "white",
          "plot_bgcolor": "white",
          "polar": {
           "angularaxis": {
            "gridcolor": "rgb(232,232,232)",
            "linecolor": "rgb(36,36,36)",
            "showgrid": false,
            "showline": true,
            "ticks": "outside"
           },
           "bgcolor": "white",
           "radialaxis": {
            "gridcolor": "rgb(232,232,232)",
            "linecolor": "rgb(36,36,36)",
            "showgrid": false,
            "showline": true,
            "ticks": "outside"
           }
          },
          "scene": {
           "xaxis": {
            "backgroundcolor": "white",
            "gridcolor": "rgb(232,232,232)",
            "gridwidth": 2,
            "linecolor": "rgb(36,36,36)",
            "showbackground": true,
            "showgrid": false,
            "showline": true,
            "ticks": "outside",
            "zeroline": false,
            "zerolinecolor": "rgb(36,36,36)"
           },
           "yaxis": {
            "backgroundcolor": "white",
            "gridcolor": "rgb(232,232,232)",
            "gridwidth": 2,
            "linecolor": "rgb(36,36,36)",
            "showbackground": true,
            "showgrid": false,
            "showline": true,
            "ticks": "outside",
            "zeroline": false,
            "zerolinecolor": "rgb(36,36,36)"
           },
           "zaxis": {
            "backgroundcolor": "white",
            "gridcolor": "rgb(232,232,232)",
            "gridwidth": 2,
            "linecolor": "rgb(36,36,36)",
            "showbackground": true,
            "showgrid": false,
            "showline": true,
            "ticks": "outside",
            "zeroline": false,
            "zerolinecolor": "rgb(36,36,36)"
           }
          },
          "shapedefaults": {
           "fillcolor": "black",
           "line": {
            "width": 0
           },
           "opacity": 0.3
          },
          "ternary": {
           "aaxis": {
            "gridcolor": "rgb(232,232,232)",
            "linecolor": "rgb(36,36,36)",
            "showgrid": false,
            "showline": true,
            "ticks": "outside"
           },
           "baxis": {
            "gridcolor": "rgb(232,232,232)",
            "linecolor": "rgb(36,36,36)",
            "showgrid": false,
            "showline": true,
            "ticks": "outside"
           },
           "bgcolor": "white",
           "caxis": {
            "gridcolor": "rgb(232,232,232)",
            "linecolor": "rgb(36,36,36)",
            "showgrid": false,
            "showline": true,
            "ticks": "outside"
           }
          },
          "title": {
           "x": 0.05
          },
          "xaxis": {
           "automargin": true,
           "gridcolor": "rgb(232,232,232)",
           "linecolor": "rgb(36,36,36)",
           "showgrid": false,
           "showline": true,
           "ticks": "outside",
           "title": {
            "standoff": 15
           },
           "zeroline": false,
           "zerolinecolor": "rgb(36,36,36)"
          },
          "yaxis": {
           "automargin": true,
           "gridcolor": "rgb(232,232,232)",
           "linecolor": "rgb(36,36,36)",
           "showgrid": false,
           "showline": true,
           "ticks": "outside",
           "title": {
            "standoff": 15
           },
           "zeroline": false,
           "zerolinecolor": "rgb(36,36,36)"
          }
         }
        },
        "title": {
         "font": {
          "size": 25
         },
         "text": "Anzahl der Projekte pro Sektor",
         "x": 0.5
        },
        "xaxis": {
         "anchor": "y",
         "categoryarray": [
          "Agriculture",
          "Food",
          "Retail",
          "Services",
          "Personal Use",
          "Housing",
          "Clothing",
          "Education",
          "Transportation",
          "Arts",
          "Health",
          "Construction",
          "Manufacturing",
          "Entertainment",
          "Wholesale"
         ],
         "categoryorder": "array",
         "domain": [
          0,
          1
         ],
         "title": {
          "text": "Sektoren"
         }
        },
        "yaxis": {
         "anchor": "x",
         "domain": [
          0,
          1
         ],
         "title": {
          "text": "Anzahl Projekte"
         }
        }
       }
      }
     },
     "metadata": {},
     "output_type": "display_data"
    }
   ],
   "source": [
    "# bar chart erstellen\n",
    "bar_sectors = px.bar(\n",
    "    data_frame=df_nr_of_projects,\n",
    "    x='sector',\n",
    "    y='number_of_projects',\n",
    "    template='simple_white',                           # Template ändern\n",
    "    color='sector',                                    # Farbe abhängig vom Sektor\n",
    "    color_discrete_sequence=['lightgray'],             # zunächst jeden Sektor grau einfärben\n",
    "    color_discrete_map={'Agriculture': 'green',        # dann die ersten zwei grün hervorheben\n",
    "                        'Food': 'green'},\n",
    "    labels={'number_of_projects': 'Anzahl Projekte',   # die Beschriftung anpassen\n",
    "            'sector': 'Sektoren'},\n",
    "    title='Anzahl der Projekte pro Sektor'             # Titel erstellen\n",
    ")\n",
    "\n",
    "# Titel des bar charts anpassen\n",
    "bar_sectors.update_layout(\n",
    "    title_x=0.5,\n",
    "    title_font=dict(size=25),\n",
    "    legend=dict(font=dict(size= 12))\n",
    ")\n",
    "\n",
    "# bar chart anzeigen\n",
    "bar_sectors.show()"
   ]
  },
  {
   "cell_type": "markdown",
   "id": "0c78d412",
   "metadata": {},
   "source": [
    "**Deskriptiver Part:**\n",
    "- die Projekte des Datensatzes sind auf 15 Sektoren aufgeteilt\n",
    "- das Diagramm zeigt die Anzahl der Projekte für jeden dieser Sektoren\n",
    "- auf der x-Achse sind die Sektoren aufgelistet\n",
    "- auf der y-Achse ist die jeweilige Anzahl der Projekte zu sehen\n",
    "- die Sektoren sind absteigend nach ihrer Projektanzahl sortiert und dargestellt\n",
    "\n",
    "**Analytischer Part:**<br>\n",
    "Es fällt auf, dass die größten beiden Sektoren mit der Lebensmittelindustrie in Zusammenhang stehen. Daher sind diese beiden Balken grün eingefärbt. Es scheinen also viele Projekte, die DIREKT mit Lebensmitteln in Verbindung stehen, angemeldet zu werden. Doch was für einen Anteil von der Gesamtzahl der Projekte nehmen diese beiden Sektoren genau ein?"
   ]
  },
  {
   "cell_type": "markdown",
   "id": "24267233",
   "metadata": {},
   "source": [
    "### Anteil lebensmittelbezogener Projekte"
   ]
  },
  {
   "cell_type": "markdown",
   "id": "06c35f15",
   "metadata": {},
   "source": [
    "Anteile von wenigen Gruppen lassen sich sehr gut mit einem pie chart darstellen. Um diesen zu erstellen und übersichtlich zu halten, werde ich zunächst eine neue Spalte im df erstellen, die die Sektoren in zwei Kategorien aufteilt."
   ]
  },
  {
   "cell_type": "code",
   "execution_count": 5,
   "id": "18b6ef37",
   "metadata": {
    "scrolled": false
   },
   "outputs": [
    {
     "data": {
      "text/html": [
       "<div>\n",
       "<style scoped>\n",
       "    .dataframe tbody tr th:only-of-type {\n",
       "        vertical-align: middle;\n",
       "    }\n",
       "\n",
       "    .dataframe tbody tr th {\n",
       "        vertical-align: top;\n",
       "    }\n",
       "\n",
       "    .dataframe thead th {\n",
       "        text-align: right;\n",
       "    }\n",
       "</style>\n",
       "<table border=\"1\" class=\"dataframe\">\n",
       "  <thead>\n",
       "    <tr style=\"text-align: right;\">\n",
       "      <th></th>\n",
       "      <th>sector</th>\n",
       "      <th>number_of_projects</th>\n",
       "      <th>category</th>\n",
       "    </tr>\n",
       "  </thead>\n",
       "  <tbody>\n",
       "    <tr>\n",
       "      <th>0</th>\n",
       "      <td>Agriculture</td>\n",
       "      <td>179224</td>\n",
       "      <td>Food Industry</td>\n",
       "    </tr>\n",
       "    <tr>\n",
       "      <th>1</th>\n",
       "      <td>Food</td>\n",
       "      <td>135749</td>\n",
       "      <td>Food Industry</td>\n",
       "    </tr>\n",
       "    <tr>\n",
       "      <th>2</th>\n",
       "      <td>Retail</td>\n",
       "      <td>123758</td>\n",
       "      <td>Other</td>\n",
       "    </tr>\n",
       "    <tr>\n",
       "      <th>3</th>\n",
       "      <td>Services</td>\n",
       "      <td>44699</td>\n",
       "      <td>Other</td>\n",
       "    </tr>\n",
       "    <tr>\n",
       "      <th>4</th>\n",
       "      <td>Personal Use</td>\n",
       "      <td>36247</td>\n",
       "      <td>Other</td>\n",
       "    </tr>\n",
       "    <tr>\n",
       "      <th>5</th>\n",
       "      <td>Housing</td>\n",
       "      <td>33571</td>\n",
       "      <td>Other</td>\n",
       "    </tr>\n",
       "    <tr>\n",
       "      <th>6</th>\n",
       "      <td>Clothing</td>\n",
       "      <td>32480</td>\n",
       "      <td>Other</td>\n",
       "    </tr>\n",
       "    <tr>\n",
       "      <th>7</th>\n",
       "      <td>Education</td>\n",
       "      <td>30837</td>\n",
       "      <td>Other</td>\n",
       "    </tr>\n",
       "    <tr>\n",
       "      <th>8</th>\n",
       "      <td>Transportation</td>\n",
       "      <td>15455</td>\n",
       "      <td>Other</td>\n",
       "    </tr>\n",
       "    <tr>\n",
       "      <th>9</th>\n",
       "      <td>Arts</td>\n",
       "      <td>11994</td>\n",
       "      <td>Other</td>\n",
       "    </tr>\n",
       "    <tr>\n",
       "      <th>10</th>\n",
       "      <td>Health</td>\n",
       "      <td>9172</td>\n",
       "      <td>Other</td>\n",
       "    </tr>\n",
       "    <tr>\n",
       "      <th>11</th>\n",
       "      <td>Construction</td>\n",
       "      <td>6194</td>\n",
       "      <td>Other</td>\n",
       "    </tr>\n",
       "    <tr>\n",
       "      <th>12</th>\n",
       "      <td>Manufacturing</td>\n",
       "      <td>6158</td>\n",
       "      <td>Other</td>\n",
       "    </tr>\n",
       "    <tr>\n",
       "      <th>13</th>\n",
       "      <td>Entertainment</td>\n",
       "      <td>820</td>\n",
       "      <td>Other</td>\n",
       "    </tr>\n",
       "    <tr>\n",
       "      <th>14</th>\n",
       "      <td>Wholesale</td>\n",
       "      <td>626</td>\n",
       "      <td>Other</td>\n",
       "    </tr>\n",
       "  </tbody>\n",
       "</table>\n",
       "</div>"
      ],
      "text/plain": [
       "            sector  number_of_projects       category\n",
       "0      Agriculture              179224  Food Industry\n",
       "1             Food              135749  Food Industry\n",
       "2           Retail              123758          Other\n",
       "3         Services               44699          Other\n",
       "4     Personal Use               36247          Other\n",
       "5          Housing               33571          Other\n",
       "6         Clothing               32480          Other\n",
       "7        Education               30837          Other\n",
       "8   Transportation               15455          Other\n",
       "9             Arts               11994          Other\n",
       "10          Health                9172          Other\n",
       "11    Construction                6194          Other\n",
       "12   Manufacturing                6158          Other\n",
       "13   Entertainment                 820          Other\n",
       "14       Wholesale                 626          Other"
      ]
     },
     "execution_count": 5,
     "metadata": {},
     "output_type": "execute_result"
    }
   ],
   "source": [
    "# weitere Spalte mit Kategorie Food Industry / Other abhängig vom Sektor erstellen\n",
    "df_nr_of_projects['category'] = df_nr_of_projects['sector'].apply(lambda x: 'Food Industry' if x in('Agriculture', 'Food') else 'Other')\n",
    "\n",
    "# df ausgeben\n",
    "df_nr_of_projects"
   ]
  },
  {
   "cell_type": "markdown",
   "id": "36f2f3e3",
   "metadata": {},
   "source": [
    "Nachdem ich die beiden Kategorien erstellt haben, setze ich sie in einem pie chart in Beziehung:"
   ]
  },
  {
   "cell_type": "code",
   "execution_count": 6,
   "id": "67dc3b26",
   "metadata": {},
   "outputs": [
    {
     "data": {
      "application/vnd.plotly.v1+json": {
       "config": {
        "plotlyServerURL": "https://plot.ly"
       },
       "data": [
        {
         "customdata": [
          [
           "Food Industry"
          ],
          [
           "Food Industry"
          ],
          [
           "Other"
          ],
          [
           "Other"
          ],
          [
           "Other"
          ],
          [
           "Other"
          ],
          [
           "Other"
          ],
          [
           "Other"
          ],
          [
           "Other"
          ],
          [
           "Other"
          ],
          [
           "Other"
          ],
          [
           "Other"
          ],
          [
           "Other"
          ],
          [
           "Other"
          ],
          [
           "Other"
          ]
         ],
         "domain": {
          "x": [
           0,
           1
          ],
          "y": [
           0,
           1
          ]
         },
         "hovertemplate": "category=%{customdata[0]}<br>number_of_projects=%{value}<extra></extra>",
         "labels": [
          "Food Industry",
          "Food Industry",
          "Other",
          "Other",
          "Other",
          "Other",
          "Other",
          "Other",
          "Other",
          "Other",
          "Other",
          "Other",
          "Other",
          "Other",
          "Other"
         ],
         "legendgroup": "",
         "marker": {
          "colors": [
           "green",
           "green",
           "lightgray",
           "lightgray",
           "lightgray",
           "lightgray",
           "lightgray",
           "lightgray",
           "lightgray",
           "lightgray",
           "lightgray",
           "lightgray",
           "lightgray",
           "lightgray",
           "lightgray"
          ]
         },
         "name": "",
         "rotation": 170,
         "showlegend": true,
         "type": "pie",
         "values": [
          179224,
          135749,
          123758,
          44699,
          36247,
          33571,
          32480,
          30837,
          15455,
          11994,
          9172,
          6194,
          6158,
          820,
          626
         ]
        }
       ],
       "layout": {
        "legend": {
         "font": {
          "size": 18
         },
         "title": {
          "text": "Kategorien"
         },
         "tracegroupgap": 0,
         "traceorder": "reversed"
        },
        "template": {
         "data": {
          "bar": [
           {
            "error_x": {
             "color": "#2a3f5f"
            },
            "error_y": {
             "color": "#2a3f5f"
            },
            "marker": {
             "line": {
              "color": "#E5ECF6",
              "width": 0.5
             },
             "pattern": {
              "fillmode": "overlay",
              "size": 10,
              "solidity": 0.2
             }
            },
            "type": "bar"
           }
          ],
          "barpolar": [
           {
            "marker": {
             "line": {
              "color": "#E5ECF6",
              "width": 0.5
             },
             "pattern": {
              "fillmode": "overlay",
              "size": 10,
              "solidity": 0.2
             }
            },
            "type": "barpolar"
           }
          ],
          "carpet": [
           {
            "aaxis": {
             "endlinecolor": "#2a3f5f",
             "gridcolor": "white",
             "linecolor": "white",
             "minorgridcolor": "white",
             "startlinecolor": "#2a3f5f"
            },
            "baxis": {
             "endlinecolor": "#2a3f5f",
             "gridcolor": "white",
             "linecolor": "white",
             "minorgridcolor": "white",
             "startlinecolor": "#2a3f5f"
            },
            "type": "carpet"
           }
          ],
          "choropleth": [
           {
            "colorbar": {
             "outlinewidth": 0,
             "ticks": ""
            },
            "type": "choropleth"
           }
          ],
          "contour": [
           {
            "colorbar": {
             "outlinewidth": 0,
             "ticks": ""
            },
            "colorscale": [
             [
              0,
              "#0d0887"
             ],
             [
              0.1111111111111111,
              "#46039f"
             ],
             [
              0.2222222222222222,
              "#7201a8"
             ],
             [
              0.3333333333333333,
              "#9c179e"
             ],
             [
              0.4444444444444444,
              "#bd3786"
             ],
             [
              0.5555555555555556,
              "#d8576b"
             ],
             [
              0.6666666666666666,
              "#ed7953"
             ],
             [
              0.7777777777777778,
              "#fb9f3a"
             ],
             [
              0.8888888888888888,
              "#fdca26"
             ],
             [
              1,
              "#f0f921"
             ]
            ],
            "type": "contour"
           }
          ],
          "contourcarpet": [
           {
            "colorbar": {
             "outlinewidth": 0,
             "ticks": ""
            },
            "type": "contourcarpet"
           }
          ],
          "heatmap": [
           {
            "colorbar": {
             "outlinewidth": 0,
             "ticks": ""
            },
            "colorscale": [
             [
              0,
              "#0d0887"
             ],
             [
              0.1111111111111111,
              "#46039f"
             ],
             [
              0.2222222222222222,
              "#7201a8"
             ],
             [
              0.3333333333333333,
              "#9c179e"
             ],
             [
              0.4444444444444444,
              "#bd3786"
             ],
             [
              0.5555555555555556,
              "#d8576b"
             ],
             [
              0.6666666666666666,
              "#ed7953"
             ],
             [
              0.7777777777777778,
              "#fb9f3a"
             ],
             [
              0.8888888888888888,
              "#fdca26"
             ],
             [
              1,
              "#f0f921"
             ]
            ],
            "type": "heatmap"
           }
          ],
          "heatmapgl": [
           {
            "colorbar": {
             "outlinewidth": 0,
             "ticks": ""
            },
            "colorscale": [
             [
              0,
              "#0d0887"
             ],
             [
              0.1111111111111111,
              "#46039f"
             ],
             [
              0.2222222222222222,
              "#7201a8"
             ],
             [
              0.3333333333333333,
              "#9c179e"
             ],
             [
              0.4444444444444444,
              "#bd3786"
             ],
             [
              0.5555555555555556,
              "#d8576b"
             ],
             [
              0.6666666666666666,
              "#ed7953"
             ],
             [
              0.7777777777777778,
              "#fb9f3a"
             ],
             [
              0.8888888888888888,
              "#fdca26"
             ],
             [
              1,
              "#f0f921"
             ]
            ],
            "type": "heatmapgl"
           }
          ],
          "histogram": [
           {
            "marker": {
             "pattern": {
              "fillmode": "overlay",
              "size": 10,
              "solidity": 0.2
             }
            },
            "type": "histogram"
           }
          ],
          "histogram2d": [
           {
            "colorbar": {
             "outlinewidth": 0,
             "ticks": ""
            },
            "colorscale": [
             [
              0,
              "#0d0887"
             ],
             [
              0.1111111111111111,
              "#46039f"
             ],
             [
              0.2222222222222222,
              "#7201a8"
             ],
             [
              0.3333333333333333,
              "#9c179e"
             ],
             [
              0.4444444444444444,
              "#bd3786"
             ],
             [
              0.5555555555555556,
              "#d8576b"
             ],
             [
              0.6666666666666666,
              "#ed7953"
             ],
             [
              0.7777777777777778,
              "#fb9f3a"
             ],
             [
              0.8888888888888888,
              "#fdca26"
             ],
             [
              1,
              "#f0f921"
             ]
            ],
            "type": "histogram2d"
           }
          ],
          "histogram2dcontour": [
           {
            "colorbar": {
             "outlinewidth": 0,
             "ticks": ""
            },
            "colorscale": [
             [
              0,
              "#0d0887"
             ],
             [
              0.1111111111111111,
              "#46039f"
             ],
             [
              0.2222222222222222,
              "#7201a8"
             ],
             [
              0.3333333333333333,
              "#9c179e"
             ],
             [
              0.4444444444444444,
              "#bd3786"
             ],
             [
              0.5555555555555556,
              "#d8576b"
             ],
             [
              0.6666666666666666,
              "#ed7953"
             ],
             [
              0.7777777777777778,
              "#fb9f3a"
             ],
             [
              0.8888888888888888,
              "#fdca26"
             ],
             [
              1,
              "#f0f921"
             ]
            ],
            "type": "histogram2dcontour"
           }
          ],
          "mesh3d": [
           {
            "colorbar": {
             "outlinewidth": 0,
             "ticks": ""
            },
            "type": "mesh3d"
           }
          ],
          "parcoords": [
           {
            "line": {
             "colorbar": {
              "outlinewidth": 0,
              "ticks": ""
             }
            },
            "type": "parcoords"
           }
          ],
          "pie": [
           {
            "automargin": true,
            "type": "pie"
           }
          ],
          "scatter": [
           {
            "fillpattern": {
             "fillmode": "overlay",
             "size": 10,
             "solidity": 0.2
            },
            "type": "scatter"
           }
          ],
          "scatter3d": [
           {
            "line": {
             "colorbar": {
              "outlinewidth": 0,
              "ticks": ""
             }
            },
            "marker": {
             "colorbar": {
              "outlinewidth": 0,
              "ticks": ""
             }
            },
            "type": "scatter3d"
           }
          ],
          "scattercarpet": [
           {
            "marker": {
             "colorbar": {
              "outlinewidth": 0,
              "ticks": ""
             }
            },
            "type": "scattercarpet"
           }
          ],
          "scattergeo": [
           {
            "marker": {
             "colorbar": {
              "outlinewidth": 0,
              "ticks": ""
             }
            },
            "type": "scattergeo"
           }
          ],
          "scattergl": [
           {
            "marker": {
             "colorbar": {
              "outlinewidth": 0,
              "ticks": ""
             }
            },
            "type": "scattergl"
           }
          ],
          "scattermapbox": [
           {
            "marker": {
             "colorbar": {
              "outlinewidth": 0,
              "ticks": ""
             }
            },
            "type": "scattermapbox"
           }
          ],
          "scatterpolar": [
           {
            "marker": {
             "colorbar": {
              "outlinewidth": 0,
              "ticks": ""
             }
            },
            "type": "scatterpolar"
           }
          ],
          "scatterpolargl": [
           {
            "marker": {
             "colorbar": {
              "outlinewidth": 0,
              "ticks": ""
             }
            },
            "type": "scatterpolargl"
           }
          ],
          "scatterternary": [
           {
            "marker": {
             "colorbar": {
              "outlinewidth": 0,
              "ticks": ""
             }
            },
            "type": "scatterternary"
           }
          ],
          "surface": [
           {
            "colorbar": {
             "outlinewidth": 0,
             "ticks": ""
            },
            "colorscale": [
             [
              0,
              "#0d0887"
             ],
             [
              0.1111111111111111,
              "#46039f"
             ],
             [
              0.2222222222222222,
              "#7201a8"
             ],
             [
              0.3333333333333333,
              "#9c179e"
             ],
             [
              0.4444444444444444,
              "#bd3786"
             ],
             [
              0.5555555555555556,
              "#d8576b"
             ],
             [
              0.6666666666666666,
              "#ed7953"
             ],
             [
              0.7777777777777778,
              "#fb9f3a"
             ],
             [
              0.8888888888888888,
              "#fdca26"
             ],
             [
              1,
              "#f0f921"
             ]
            ],
            "type": "surface"
           }
          ],
          "table": [
           {
            "cells": {
             "fill": {
              "color": "#EBF0F8"
             },
             "line": {
              "color": "white"
             }
            },
            "header": {
             "fill": {
              "color": "#C8D4E3"
             },
             "line": {
              "color": "white"
             }
            },
            "type": "table"
           }
          ]
         },
         "layout": {
          "annotationdefaults": {
           "arrowcolor": "#2a3f5f",
           "arrowhead": 0,
           "arrowwidth": 1
          },
          "autotypenumbers": "strict",
          "coloraxis": {
           "colorbar": {
            "outlinewidth": 0,
            "ticks": ""
           }
          },
          "colorscale": {
           "diverging": [
            [
             0,
             "#8e0152"
            ],
            [
             0.1,
             "#c51b7d"
            ],
            [
             0.2,
             "#de77ae"
            ],
            [
             0.3,
             "#f1b6da"
            ],
            [
             0.4,
             "#fde0ef"
            ],
            [
             0.5,
             "#f7f7f7"
            ],
            [
             0.6,
             "#e6f5d0"
            ],
            [
             0.7,
             "#b8e186"
            ],
            [
             0.8,
             "#7fbc41"
            ],
            [
             0.9,
             "#4d9221"
            ],
            [
             1,
             "#276419"
            ]
           ],
           "sequential": [
            [
             0,
             "#0d0887"
            ],
            [
             0.1111111111111111,
             "#46039f"
            ],
            [
             0.2222222222222222,
             "#7201a8"
            ],
            [
             0.3333333333333333,
             "#9c179e"
            ],
            [
             0.4444444444444444,
             "#bd3786"
            ],
            [
             0.5555555555555556,
             "#d8576b"
            ],
            [
             0.6666666666666666,
             "#ed7953"
            ],
            [
             0.7777777777777778,
             "#fb9f3a"
            ],
            [
             0.8888888888888888,
             "#fdca26"
            ],
            [
             1,
             "#f0f921"
            ]
           ],
           "sequentialminus": [
            [
             0,
             "#0d0887"
            ],
            [
             0.1111111111111111,
             "#46039f"
            ],
            [
             0.2222222222222222,
             "#7201a8"
            ],
            [
             0.3333333333333333,
             "#9c179e"
            ],
            [
             0.4444444444444444,
             "#bd3786"
            ],
            [
             0.5555555555555556,
             "#d8576b"
            ],
            [
             0.6666666666666666,
             "#ed7953"
            ],
            [
             0.7777777777777778,
             "#fb9f3a"
            ],
            [
             0.8888888888888888,
             "#fdca26"
            ],
            [
             1,
             "#f0f921"
            ]
           ]
          },
          "colorway": [
           "#636efa",
           "#EF553B",
           "#00cc96",
           "#ab63fa",
           "#FFA15A",
           "#19d3f3",
           "#FF6692",
           "#B6E880",
           "#FF97FF",
           "#FECB52"
          ],
          "font": {
           "color": "#2a3f5f"
          },
          "geo": {
           "bgcolor": "white",
           "lakecolor": "white",
           "landcolor": "#E5ECF6",
           "showlakes": true,
           "showland": true,
           "subunitcolor": "white"
          },
          "hoverlabel": {
           "align": "left"
          },
          "hovermode": "closest",
          "mapbox": {
           "style": "light"
          },
          "paper_bgcolor": "white",
          "plot_bgcolor": "#E5ECF6",
          "polar": {
           "angularaxis": {
            "gridcolor": "white",
            "linecolor": "white",
            "ticks": ""
           },
           "bgcolor": "#E5ECF6",
           "radialaxis": {
            "gridcolor": "white",
            "linecolor": "white",
            "ticks": ""
           }
          },
          "scene": {
           "xaxis": {
            "backgroundcolor": "#E5ECF6",
            "gridcolor": "white",
            "gridwidth": 2,
            "linecolor": "white",
            "showbackground": true,
            "ticks": "",
            "zerolinecolor": "white"
           },
           "yaxis": {
            "backgroundcolor": "#E5ECF6",
            "gridcolor": "white",
            "gridwidth": 2,
            "linecolor": "white",
            "showbackground": true,
            "ticks": "",
            "zerolinecolor": "white"
           },
           "zaxis": {
            "backgroundcolor": "#E5ECF6",
            "gridcolor": "white",
            "gridwidth": 2,
            "linecolor": "white",
            "showbackground": true,
            "ticks": "",
            "zerolinecolor": "white"
           }
          },
          "shapedefaults": {
           "line": {
            "color": "#2a3f5f"
           }
          },
          "ternary": {
           "aaxis": {
            "gridcolor": "white",
            "linecolor": "white",
            "ticks": ""
           },
           "baxis": {
            "gridcolor": "white",
            "linecolor": "white",
            "ticks": ""
           },
           "bgcolor": "#E5ECF6",
           "caxis": {
            "gridcolor": "white",
            "linecolor": "white",
            "ticks": ""
           }
          },
          "title": {
           "x": 0.05
          },
          "xaxis": {
           "automargin": true,
           "gridcolor": "white",
           "linecolor": "white",
           "ticks": "",
           "title": {
            "standoff": 15
           },
           "zerolinecolor": "white",
           "zerolinewidth": 2
          },
          "yaxis": {
           "automargin": true,
           "gridcolor": "white",
           "linecolor": "white",
           "ticks": "",
           "title": {
            "standoff": 15
           },
           "zerolinecolor": "white",
           "zerolinewidth": 2
          }
         }
        },
        "title": {
         "font": {
          "size": 25
         },
         "text": "Anteil der Projekte mit Lebensmittelbezug",
         "x": 0.47
        }
       }
      }
     },
     "metadata": {},
     "output_type": "display_data"
    }
   ],
   "source": [
    "# pie chart erstellen\n",
    "pie_food = px.pie(\n",
    "    data_frame=df_nr_of_projects,\n",
    "    names='category',\n",
    "    values='number_of_projects',\n",
    "    color='category',                                    # Farbe nach Kategorie vergeben\n",
    "    color_discrete_map={'Food Industry': 'green',        # Farbgebung beeinflussen\n",
    "                        'Other': 'lightgray'},\n",
    "    title='Anteil der Projekte mit Lebensmittelbezug'\n",
    ")\n",
    "\n",
    "# Layout anpassen\n",
    "pie_food.update_layout(\n",
    "    legend_traceorder=\"reversed\",                        # Legende umdrehen\n",
    "    legend_title_text='Kategorien',                      # Legendentitel setzen\n",
    "    title_x=0.47,\n",
    "    title_font=dict(size=25),\n",
    "    legend=dict(font=dict(size= 18))\n",
    ")\n",
    "\n",
    "# Kuchstückausrichtung anpassen\n",
    "pie_food.update_traces(                                \n",
    "    rotation=170                                         # Kuchenstücke drehen\n",
    ")  \n",
    "\n",
    "# pie chart anzeigen\n",
    "pie_food.show()"
   ]
  },
  {
   "cell_type": "markdown",
   "id": "e81d1eaa",
   "metadata": {},
   "source": [
    "**Deskripter Part:**\n",
    "- das Diagramm zeigt den Anteil der Projekte mit Lebensmittelbezug an der Gesamtzahl der Projekte\n",
    "- die Projekte sind hier in zwei Kategorien eingeteilt:\n",
    "    - Food Industry: Projekte mit Lebensmittelbezug (Inhalt: 2 Sektoren)\n",
    "    - Other: alle anderen Projekte (Inhalt: 13 Sektoren)\n",
    "- die Kategorie Food Industry nimmt etwa 47% Prozent ein und ist grün eingefärbt\n",
    "- die Kategorie Other nimmt etwa 53% ein und ist hellgrau eingefärbt\n",
    "\n",
    "**Analytischer Part:**<br>\n",
    "Die beiden Kategorien beinhalten unterschiedlich viele Sektoren. Daher wäre eigentlich zu erwarten, dass die Kategorie mit deutlich weniger Sektoren auch deutlich weniger Anteil an der Gesamtzahl der Projekte hat. Wie schon im Balkendiagramm abzusehen war und jetzt auch sehr deutlich wird, ist dem nicht so. Die Kategorie Food Industry nimmt fast die Hälfte der Projekte ein.<br>\n",
    "Doch was macht diese Kategorie bzw. die Projekte in dieser Kategorie so besonders? Kann man Besonderheiten anhand der Geographie erkennen?"
   ]
  },
  {
   "cell_type": "markdown",
   "id": "65f2ce39",
   "metadata": {},
   "source": [
    "### Geographische Verteilung der Kategorie Food Industry"
   ]
  },
  {
   "cell_type": "markdown",
   "id": "4929f991",
   "metadata": {},
   "source": [
    "Zunächst muss ich die Kategorien an das Ursprungs-df anspielen."
   ]
  },
  {
   "cell_type": "code",
   "execution_count": 7,
   "id": "e6677fcb",
   "metadata": {},
   "outputs": [
    {
     "data": {
      "text/html": [
       "<div>\n",
       "<style scoped>\n",
       "    .dataframe tbody tr th:only-of-type {\n",
       "        vertical-align: middle;\n",
       "    }\n",
       "\n",
       "    .dataframe tbody tr th {\n",
       "        vertical-align: top;\n",
       "    }\n",
       "\n",
       "    .dataframe thead th {\n",
       "        text-align: right;\n",
       "    }\n",
       "</style>\n",
       "<table border=\"1\" class=\"dataframe\">\n",
       "  <thead>\n",
       "    <tr style=\"text-align: right;\">\n",
       "      <th></th>\n",
       "      <th>funded_amount</th>\n",
       "      <th>loan_amount</th>\n",
       "      <th>completion_rate</th>\n",
       "      <th>activity</th>\n",
       "      <th>sector</th>\n",
       "      <th>country</th>\n",
       "      <th>term_in_months</th>\n",
       "      <th>lender_count</th>\n",
       "      <th>funded_amount_per_lender</th>\n",
       "      <th>borrower_count</th>\n",
       "      <th>borrower_genders_updated</th>\n",
       "      <th>repayment_interval</th>\n",
       "      <th>category</th>\n",
       "    </tr>\n",
       "  </thead>\n",
       "  <tbody>\n",
       "    <tr>\n",
       "      <th>0</th>\n",
       "      <td>300</td>\n",
       "      <td>300</td>\n",
       "      <td>1.0</td>\n",
       "      <td>Fruits &amp; Vegetables</td>\n",
       "      <td>Food</td>\n",
       "      <td>Pakistan</td>\n",
       "      <td>12</td>\n",
       "      <td>12</td>\n",
       "      <td>25.00</td>\n",
       "      <td>1</td>\n",
       "      <td>fe only</td>\n",
       "      <td>irregular</td>\n",
       "      <td>Food Industry</td>\n",
       "    </tr>\n",
       "    <tr>\n",
       "      <th>1</th>\n",
       "      <td>575</td>\n",
       "      <td>575</td>\n",
       "      <td>1.0</td>\n",
       "      <td>Rickshaw</td>\n",
       "      <td>Transportation</td>\n",
       "      <td>Pakistan</td>\n",
       "      <td>11</td>\n",
       "      <td>14</td>\n",
       "      <td>41.07</td>\n",
       "      <td>2</td>\n",
       "      <td>fe only</td>\n",
       "      <td>irregular</td>\n",
       "      <td>Other</td>\n",
       "    </tr>\n",
       "    <tr>\n",
       "      <th>2</th>\n",
       "      <td>150</td>\n",
       "      <td>150</td>\n",
       "      <td>1.0</td>\n",
       "      <td>Transportation</td>\n",
       "      <td>Transportation</td>\n",
       "      <td>India</td>\n",
       "      <td>43</td>\n",
       "      <td>6</td>\n",
       "      <td>25.00</td>\n",
       "      <td>1</td>\n",
       "      <td>fe only</td>\n",
       "      <td>bullet</td>\n",
       "      <td>Other</td>\n",
       "    </tr>\n",
       "    <tr>\n",
       "      <th>3</th>\n",
       "      <td>200</td>\n",
       "      <td>200</td>\n",
       "      <td>1.0</td>\n",
       "      <td>Embroidery</td>\n",
       "      <td>Arts</td>\n",
       "      <td>Pakistan</td>\n",
       "      <td>11</td>\n",
       "      <td>8</td>\n",
       "      <td>25.00</td>\n",
       "      <td>1</td>\n",
       "      <td>fe only</td>\n",
       "      <td>irregular</td>\n",
       "      <td>Other</td>\n",
       "    </tr>\n",
       "    <tr>\n",
       "      <th>4</th>\n",
       "      <td>400</td>\n",
       "      <td>400</td>\n",
       "      <td>1.0</td>\n",
       "      <td>Milk Sales</td>\n",
       "      <td>Food</td>\n",
       "      <td>Pakistan</td>\n",
       "      <td>14</td>\n",
       "      <td>16</td>\n",
       "      <td>25.00</td>\n",
       "      <td>1</td>\n",
       "      <td>fe only</td>\n",
       "      <td>monthly</td>\n",
       "      <td>Food Industry</td>\n",
       "    </tr>\n",
       "    <tr>\n",
       "      <th>...</th>\n",
       "      <td>...</td>\n",
       "      <td>...</td>\n",
       "      <td>...</td>\n",
       "      <td>...</td>\n",
       "      <td>...</td>\n",
       "      <td>...</td>\n",
       "      <td>...</td>\n",
       "      <td>...</td>\n",
       "      <td>...</td>\n",
       "      <td>...</td>\n",
       "      <td>...</td>\n",
       "      <td>...</td>\n",
       "      <td>...</td>\n",
       "    </tr>\n",
       "    <tr>\n",
       "      <th>671199</th>\n",
       "      <td>0</td>\n",
       "      <td>25</td>\n",
       "      <td>0.0</td>\n",
       "      <td>Livestock</td>\n",
       "      <td>Agriculture</td>\n",
       "      <td>Paraguay</td>\n",
       "      <td>13</td>\n",
       "      <td>0</td>\n",
       "      <td>0.00</td>\n",
       "      <td>1</td>\n",
       "      <td>fe only</td>\n",
       "      <td>monthly</td>\n",
       "      <td>Food Industry</td>\n",
       "    </tr>\n",
       "    <tr>\n",
       "      <th>671200</th>\n",
       "      <td>0</td>\n",
       "      <td>25</td>\n",
       "      <td>0.0</td>\n",
       "      <td>Livestock</td>\n",
       "      <td>Agriculture</td>\n",
       "      <td>Paraguay</td>\n",
       "      <td>13</td>\n",
       "      <td>0</td>\n",
       "      <td>0.00</td>\n",
       "      <td>1</td>\n",
       "      <td>fe only</td>\n",
       "      <td>monthly</td>\n",
       "      <td>Food Industry</td>\n",
       "    </tr>\n",
       "    <tr>\n",
       "      <th>671201</th>\n",
       "      <td>25</td>\n",
       "      <td>25</td>\n",
       "      <td>1.0</td>\n",
       "      <td>Livestock</td>\n",
       "      <td>Agriculture</td>\n",
       "      <td>Kenya</td>\n",
       "      <td>13</td>\n",
       "      <td>1</td>\n",
       "      <td>25.00</td>\n",
       "      <td>1</td>\n",
       "      <td>fe only</td>\n",
       "      <td>monthly</td>\n",
       "      <td>Food Industry</td>\n",
       "    </tr>\n",
       "    <tr>\n",
       "      <th>671203</th>\n",
       "      <td>0</td>\n",
       "      <td>25</td>\n",
       "      <td>0.0</td>\n",
       "      <td>Livestock</td>\n",
       "      <td>Agriculture</td>\n",
       "      <td>Kenya</td>\n",
       "      <td>13</td>\n",
       "      <td>0</td>\n",
       "      <td>0.00</td>\n",
       "      <td>1</td>\n",
       "      <td>fe only</td>\n",
       "      <td>monthly</td>\n",
       "      <td>Food Industry</td>\n",
       "    </tr>\n",
       "    <tr>\n",
       "      <th>671204</th>\n",
       "      <td>0</td>\n",
       "      <td>25</td>\n",
       "      <td>0.0</td>\n",
       "      <td>Livestock</td>\n",
       "      <td>Agriculture</td>\n",
       "      <td>Kenya</td>\n",
       "      <td>13</td>\n",
       "      <td>0</td>\n",
       "      <td>0.00</td>\n",
       "      <td>1</td>\n",
       "      <td>fe only</td>\n",
       "      <td>monthly</td>\n",
       "      <td>Food Industry</td>\n",
       "    </tr>\n",
       "  </tbody>\n",
       "</table>\n",
       "<p>666984 rows × 13 columns</p>\n",
       "</div>"
      ],
      "text/plain": [
       "        funded_amount  loan_amount  completion_rate             activity  \\\n",
       "0                 300          300              1.0  Fruits & Vegetables   \n",
       "1                 575          575              1.0             Rickshaw   \n",
       "2                 150          150              1.0       Transportation   \n",
       "3                 200          200              1.0           Embroidery   \n",
       "4                 400          400              1.0           Milk Sales   \n",
       "...               ...          ...              ...                  ...   \n",
       "671199              0           25              0.0            Livestock   \n",
       "671200              0           25              0.0            Livestock   \n",
       "671201             25           25              1.0            Livestock   \n",
       "671203              0           25              0.0            Livestock   \n",
       "671204              0           25              0.0            Livestock   \n",
       "\n",
       "                sector   country  term_in_months  lender_count  \\\n",
       "0                 Food  Pakistan              12            12   \n",
       "1       Transportation  Pakistan              11            14   \n",
       "2       Transportation     India              43             6   \n",
       "3                 Arts  Pakistan              11             8   \n",
       "4                 Food  Pakistan              14            16   \n",
       "...                ...       ...             ...           ...   \n",
       "671199     Agriculture  Paraguay              13             0   \n",
       "671200     Agriculture  Paraguay              13             0   \n",
       "671201     Agriculture     Kenya              13             1   \n",
       "671203     Agriculture     Kenya              13             0   \n",
       "671204     Agriculture     Kenya              13             0   \n",
       "\n",
       "        funded_amount_per_lender  borrower_count borrower_genders_updated  \\\n",
       "0                          25.00               1                  fe only   \n",
       "1                          41.07               2                  fe only   \n",
       "2                          25.00               1                  fe only   \n",
       "3                          25.00               1                  fe only   \n",
       "4                          25.00               1                  fe only   \n",
       "...                          ...             ...                      ...   \n",
       "671199                      0.00               1                  fe only   \n",
       "671200                      0.00               1                  fe only   \n",
       "671201                     25.00               1                  fe only   \n",
       "671203                      0.00               1                  fe only   \n",
       "671204                      0.00               1                  fe only   \n",
       "\n",
       "       repayment_interval       category  \n",
       "0               irregular  Food Industry  \n",
       "1               irregular          Other  \n",
       "2                  bullet          Other  \n",
       "3               irregular          Other  \n",
       "4                 monthly  Food Industry  \n",
       "...                   ...            ...  \n",
       "671199            monthly  Food Industry  \n",
       "671200            monthly  Food Industry  \n",
       "671201            monthly  Food Industry  \n",
       "671203            monthly  Food Industry  \n",
       "671204            monthly  Food Industry  \n",
       "\n",
       "[666984 rows x 13 columns]"
      ]
     },
     "execution_count": 7,
     "metadata": {},
     "output_type": "execute_result"
    }
   ],
   "source": [
    "# weitere Spalte mit Kategorie Food Industry / Other abhängig vom Sektor erstellen\n",
    "df['category'] = df['sector'].apply(lambda x: 'Food Industry' if x in('Agriculture', 'Food') else 'Other')\n",
    "\n",
    "# df ausgeben\n",
    "df"
   ]
  },
  {
   "cell_type": "markdown",
   "id": "a09f7367",
   "metadata": {},
   "source": [
    "Jetzt schränke ich das df auf die Zeilen ein, die Projekte der Kategorie Food Industry beschreiben."
   ]
  },
  {
   "cell_type": "code",
   "execution_count": 8,
   "id": "7541ab61",
   "metadata": {},
   "outputs": [
    {
     "data": {
      "text/html": [
       "<div>\n",
       "<style scoped>\n",
       "    .dataframe tbody tr th:only-of-type {\n",
       "        vertical-align: middle;\n",
       "    }\n",
       "\n",
       "    .dataframe tbody tr th {\n",
       "        vertical-align: top;\n",
       "    }\n",
       "\n",
       "    .dataframe thead th {\n",
       "        text-align: right;\n",
       "    }\n",
       "</style>\n",
       "<table border=\"1\" class=\"dataframe\">\n",
       "  <thead>\n",
       "    <tr style=\"text-align: right;\">\n",
       "      <th></th>\n",
       "      <th>funded_amount</th>\n",
       "      <th>loan_amount</th>\n",
       "      <th>completion_rate</th>\n",
       "      <th>activity</th>\n",
       "      <th>sector</th>\n",
       "      <th>country</th>\n",
       "      <th>term_in_months</th>\n",
       "      <th>lender_count</th>\n",
       "      <th>funded_amount_per_lender</th>\n",
       "      <th>borrower_count</th>\n",
       "      <th>borrower_genders_updated</th>\n",
       "      <th>repayment_interval</th>\n",
       "      <th>category</th>\n",
       "    </tr>\n",
       "  </thead>\n",
       "  <tbody>\n",
       "    <tr>\n",
       "      <th>0</th>\n",
       "      <td>300</td>\n",
       "      <td>300</td>\n",
       "      <td>1.0</td>\n",
       "      <td>Fruits &amp; Vegetables</td>\n",
       "      <td>Food</td>\n",
       "      <td>Pakistan</td>\n",
       "      <td>12</td>\n",
       "      <td>12</td>\n",
       "      <td>25.000000</td>\n",
       "      <td>1</td>\n",
       "      <td>fe only</td>\n",
       "      <td>irregular</td>\n",
       "      <td>Food Industry</td>\n",
       "    </tr>\n",
       "    <tr>\n",
       "      <th>4</th>\n",
       "      <td>400</td>\n",
       "      <td>400</td>\n",
       "      <td>1.0</td>\n",
       "      <td>Milk Sales</td>\n",
       "      <td>Food</td>\n",
       "      <td>Pakistan</td>\n",
       "      <td>14</td>\n",
       "      <td>16</td>\n",
       "      <td>25.000000</td>\n",
       "      <td>1</td>\n",
       "      <td>fe only</td>\n",
       "      <td>monthly</td>\n",
       "      <td>Food Industry</td>\n",
       "    </tr>\n",
       "    <tr>\n",
       "      <th>6</th>\n",
       "      <td>200</td>\n",
       "      <td>200</td>\n",
       "      <td>1.0</td>\n",
       "      <td>Dairy</td>\n",
       "      <td>Agriculture</td>\n",
       "      <td>India</td>\n",
       "      <td>43</td>\n",
       "      <td>8</td>\n",
       "      <td>25.000000</td>\n",
       "      <td>1</td>\n",
       "      <td>fe only</td>\n",
       "      <td>bullet</td>\n",
       "      <td>Food Industry</td>\n",
       "    </tr>\n",
       "    <tr>\n",
       "      <th>9</th>\n",
       "      <td>625</td>\n",
       "      <td>625</td>\n",
       "      <td>1.0</td>\n",
       "      <td>Food Production/Sales</td>\n",
       "      <td>Food</td>\n",
       "      <td>Pakistan</td>\n",
       "      <td>11</td>\n",
       "      <td>24</td>\n",
       "      <td>26.040001</td>\n",
       "      <td>1</td>\n",
       "      <td>fe only</td>\n",
       "      <td>irregular</td>\n",
       "      <td>Food Industry</td>\n",
       "    </tr>\n",
       "    <tr>\n",
       "      <th>14</th>\n",
       "      <td>225</td>\n",
       "      <td>225</td>\n",
       "      <td>1.0</td>\n",
       "      <td>Poultry</td>\n",
       "      <td>Agriculture</td>\n",
       "      <td>India</td>\n",
       "      <td>43</td>\n",
       "      <td>7</td>\n",
       "      <td>32.139999</td>\n",
       "      <td>1</td>\n",
       "      <td>fe only</td>\n",
       "      <td>bullet</td>\n",
       "      <td>Food Industry</td>\n",
       "    </tr>\n",
       "    <tr>\n",
       "      <th>...</th>\n",
       "      <td>...</td>\n",
       "      <td>...</td>\n",
       "      <td>...</td>\n",
       "      <td>...</td>\n",
       "      <td>...</td>\n",
       "      <td>...</td>\n",
       "      <td>...</td>\n",
       "      <td>...</td>\n",
       "      <td>...</td>\n",
       "      <td>...</td>\n",
       "      <td>...</td>\n",
       "      <td>...</td>\n",
       "      <td>...</td>\n",
       "    </tr>\n",
       "    <tr>\n",
       "      <th>671199</th>\n",
       "      <td>0</td>\n",
       "      <td>25</td>\n",
       "      <td>0.0</td>\n",
       "      <td>Livestock</td>\n",
       "      <td>Agriculture</td>\n",
       "      <td>Paraguay</td>\n",
       "      <td>13</td>\n",
       "      <td>0</td>\n",
       "      <td>0.000000</td>\n",
       "      <td>1</td>\n",
       "      <td>fe only</td>\n",
       "      <td>monthly</td>\n",
       "      <td>Food Industry</td>\n",
       "    </tr>\n",
       "    <tr>\n",
       "      <th>671200</th>\n",
       "      <td>0</td>\n",
       "      <td>25</td>\n",
       "      <td>0.0</td>\n",
       "      <td>Livestock</td>\n",
       "      <td>Agriculture</td>\n",
       "      <td>Paraguay</td>\n",
       "      <td>13</td>\n",
       "      <td>0</td>\n",
       "      <td>0.000000</td>\n",
       "      <td>1</td>\n",
       "      <td>fe only</td>\n",
       "      <td>monthly</td>\n",
       "      <td>Food Industry</td>\n",
       "    </tr>\n",
       "    <tr>\n",
       "      <th>671201</th>\n",
       "      <td>25</td>\n",
       "      <td>25</td>\n",
       "      <td>1.0</td>\n",
       "      <td>Livestock</td>\n",
       "      <td>Agriculture</td>\n",
       "      <td>Kenya</td>\n",
       "      <td>13</td>\n",
       "      <td>1</td>\n",
       "      <td>25.000000</td>\n",
       "      <td>1</td>\n",
       "      <td>fe only</td>\n",
       "      <td>monthly</td>\n",
       "      <td>Food Industry</td>\n",
       "    </tr>\n",
       "    <tr>\n",
       "      <th>671203</th>\n",
       "      <td>0</td>\n",
       "      <td>25</td>\n",
       "      <td>0.0</td>\n",
       "      <td>Livestock</td>\n",
       "      <td>Agriculture</td>\n",
       "      <td>Kenya</td>\n",
       "      <td>13</td>\n",
       "      <td>0</td>\n",
       "      <td>0.000000</td>\n",
       "      <td>1</td>\n",
       "      <td>fe only</td>\n",
       "      <td>monthly</td>\n",
       "      <td>Food Industry</td>\n",
       "    </tr>\n",
       "    <tr>\n",
       "      <th>671204</th>\n",
       "      <td>0</td>\n",
       "      <td>25</td>\n",
       "      <td>0.0</td>\n",
       "      <td>Livestock</td>\n",
       "      <td>Agriculture</td>\n",
       "      <td>Kenya</td>\n",
       "      <td>13</td>\n",
       "      <td>0</td>\n",
       "      <td>0.000000</td>\n",
       "      <td>1</td>\n",
       "      <td>fe only</td>\n",
       "      <td>monthly</td>\n",
       "      <td>Food Industry</td>\n",
       "    </tr>\n",
       "  </tbody>\n",
       "</table>\n",
       "<p>314973 rows × 13 columns</p>\n",
       "</div>"
      ],
      "text/plain": [
       "        funded_amount  loan_amount  completion_rate               activity  \\\n",
       "0                 300          300              1.0    Fruits & Vegetables   \n",
       "4                 400          400              1.0             Milk Sales   \n",
       "6                 200          200              1.0                  Dairy   \n",
       "9                 625          625              1.0  Food Production/Sales   \n",
       "14                225          225              1.0                Poultry   \n",
       "...               ...          ...              ...                    ...   \n",
       "671199              0           25              0.0              Livestock   \n",
       "671200              0           25              0.0              Livestock   \n",
       "671201             25           25              1.0              Livestock   \n",
       "671203              0           25              0.0              Livestock   \n",
       "671204              0           25              0.0              Livestock   \n",
       "\n",
       "             sector   country  term_in_months  lender_count  \\\n",
       "0              Food  Pakistan              12            12   \n",
       "4              Food  Pakistan              14            16   \n",
       "6       Agriculture     India              43             8   \n",
       "9              Food  Pakistan              11            24   \n",
       "14      Agriculture     India              43             7   \n",
       "...             ...       ...             ...           ...   \n",
       "671199  Agriculture  Paraguay              13             0   \n",
       "671200  Agriculture  Paraguay              13             0   \n",
       "671201  Agriculture     Kenya              13             1   \n",
       "671203  Agriculture     Kenya              13             0   \n",
       "671204  Agriculture     Kenya              13             0   \n",
       "\n",
       "        funded_amount_per_lender  borrower_count borrower_genders_updated  \\\n",
       "0                      25.000000               1                  fe only   \n",
       "4                      25.000000               1                  fe only   \n",
       "6                      25.000000               1                  fe only   \n",
       "9                      26.040001               1                  fe only   \n",
       "14                     32.139999               1                  fe only   \n",
       "...                          ...             ...                      ...   \n",
       "671199                  0.000000               1                  fe only   \n",
       "671200                  0.000000               1                  fe only   \n",
       "671201                 25.000000               1                  fe only   \n",
       "671203                  0.000000               1                  fe only   \n",
       "671204                  0.000000               1                  fe only   \n",
       "\n",
       "       repayment_interval       category  \n",
       "0               irregular  Food Industry  \n",
       "4                 monthly  Food Industry  \n",
       "6                  bullet  Food Industry  \n",
       "9               irregular  Food Industry  \n",
       "14                 bullet  Food Industry  \n",
       "...                   ...            ...  \n",
       "671199            monthly  Food Industry  \n",
       "671200            monthly  Food Industry  \n",
       "671201            monthly  Food Industry  \n",
       "671203            monthly  Food Industry  \n",
       "671204            monthly  Food Industry  \n",
       "\n",
       "[314973 rows x 13 columns]"
      ]
     },
     "execution_count": 8,
     "metadata": {},
     "output_type": "execute_result"
    }
   ],
   "source": [
    "# df einschränken auf Kategorie Food Industry\n",
    "df_limit = df.loc[df.loc[:, 'category']=='Food Industry', :].copy()\n",
    "\n",
    "# df ausgeben\n",
    "df_limit"
   ]
  },
  {
   "cell_type": "markdown",
   "id": "61ec60e0",
   "metadata": {},
   "source": [
    "Jetzt gruppiere ich nach Ländern und Liste die Anzahl der Projekte auf."
   ]
  },
  {
   "cell_type": "code",
   "execution_count": 9,
   "id": "08458ddd",
   "metadata": {},
   "outputs": [
    {
     "data": {
      "text/html": [
       "<div>\n",
       "<style scoped>\n",
       "    .dataframe tbody tr th:only-of-type {\n",
       "        vertical-align: middle;\n",
       "    }\n",
       "\n",
       "    .dataframe tbody tr th {\n",
       "        vertical-align: top;\n",
       "    }\n",
       "\n",
       "    .dataframe thead th {\n",
       "        text-align: right;\n",
       "    }\n",
       "</style>\n",
       "<table border=\"1\" class=\"dataframe\">\n",
       "  <thead>\n",
       "    <tr style=\"text-align: right;\">\n",
       "      <th></th>\n",
       "      <th>country</th>\n",
       "      <th>number_of_projects</th>\n",
       "    </tr>\n",
       "  </thead>\n",
       "  <tbody>\n",
       "    <tr>\n",
       "      <th>0</th>\n",
       "      <td>Philippines</td>\n",
       "      <td>79446</td>\n",
       "    </tr>\n",
       "    <tr>\n",
       "      <th>1</th>\n",
       "      <td>Kenya</td>\n",
       "      <td>47382</td>\n",
       "    </tr>\n",
       "    <tr>\n",
       "      <th>2</th>\n",
       "      <td>El Salvador</td>\n",
       "      <td>22021</td>\n",
       "    </tr>\n",
       "    <tr>\n",
       "      <th>3</th>\n",
       "      <td>Cambodia</td>\n",
       "      <td>11744</td>\n",
       "    </tr>\n",
       "    <tr>\n",
       "      <th>4</th>\n",
       "      <td>Peru</td>\n",
       "      <td>11624</td>\n",
       "    </tr>\n",
       "    <tr>\n",
       "      <th>...</th>\n",
       "      <td>...</td>\n",
       "      <td>...</td>\n",
       "    </tr>\n",
       "    <tr>\n",
       "      <th>82</th>\n",
       "      <td>Guam</td>\n",
       "      <td>0</td>\n",
       "    </tr>\n",
       "    <tr>\n",
       "      <th>83</th>\n",
       "      <td>Virgin Islands</td>\n",
       "      <td>0</td>\n",
       "    </tr>\n",
       "    <tr>\n",
       "      <th>84</th>\n",
       "      <td>Lesotho</td>\n",
       "      <td>0</td>\n",
       "    </tr>\n",
       "    <tr>\n",
       "      <th>85</th>\n",
       "      <td>Lao People's Democratic Republic</td>\n",
       "      <td>0</td>\n",
       "    </tr>\n",
       "    <tr>\n",
       "      <th>86</th>\n",
       "      <td>Afghanistan</td>\n",
       "      <td>0</td>\n",
       "    </tr>\n",
       "  </tbody>\n",
       "</table>\n",
       "<p>87 rows × 2 columns</p>\n",
       "</div>"
      ],
      "text/plain": [
       "                             country  number_of_projects\n",
       "0                        Philippines               79446\n",
       "1                              Kenya               47382\n",
       "2                        El Salvador               22021\n",
       "3                           Cambodia               11744\n",
       "4                               Peru               11624\n",
       "..                               ...                 ...\n",
       "82                              Guam                   0\n",
       "83                    Virgin Islands                   0\n",
       "84                           Lesotho                   0\n",
       "85  Lao People's Democratic Republic                   0\n",
       "86                       Afghanistan                   0\n",
       "\n",
       "[87 rows x 2 columns]"
      ]
     },
     "execution_count": 9,
     "metadata": {},
     "output_type": "execute_result"
    }
   ],
   "source": [
    "# df nach country gruppieren und die Anzahl der Projekte zählen\n",
    "df_limit_nr_of_project = df_limit.groupby(by='country').size().reset_index(name='number_of_projects')\n",
    "\n",
    "# df nach Anzahl der Projekte sortieren\n",
    "df_limit_nr_of_project.sort_values(by='number_of_projects', ascending=False, inplace=True)\n",
    "\n",
    "# df index zurücksetzen\n",
    "df_limit_nr_of_project.reset_index(drop=True, inplace=True)\n",
    "\n",
    "# df anzeigen\n",
    "df_limit_nr_of_project"
   ]
  },
  {
   "cell_type": "markdown",
   "id": "5212a488",
   "metadata": {},
   "source": [
    "Da die Anzahl der Projekte für die Länder extrem weit auseinander liegt und dadurch Probleme bei der Visualisierung entstehen, werde ich die Daten kategorisieren. Außerdem entferne ich die Zeilen mit 0 Projekten mit Lebensmittelbezug."
   ]
  },
  {
   "cell_type": "code",
   "execution_count": 10,
   "id": "e27eaac0",
   "metadata": {
    "scrolled": false
   },
   "outputs": [
    {
     "data": {
      "text/html": [
       "<div>\n",
       "<style scoped>\n",
       "    .dataframe tbody tr th:only-of-type {\n",
       "        vertical-align: middle;\n",
       "    }\n",
       "\n",
       "    .dataframe tbody tr th {\n",
       "        vertical-align: top;\n",
       "    }\n",
       "\n",
       "    .dataframe thead th {\n",
       "        text-align: right;\n",
       "    }\n",
       "</style>\n",
       "<table border=\"1\" class=\"dataframe\">\n",
       "  <thead>\n",
       "    <tr style=\"text-align: right;\">\n",
       "      <th></th>\n",
       "      <th>country</th>\n",
       "      <th>number_of_projects</th>\n",
       "      <th>number_of_projects_cat</th>\n",
       "    </tr>\n",
       "  </thead>\n",
       "  <tbody>\n",
       "    <tr>\n",
       "      <th>0</th>\n",
       "      <td>Philippines</td>\n",
       "      <td>79446</td>\n",
       "      <td>~79000</td>\n",
       "    </tr>\n",
       "    <tr>\n",
       "      <th>1</th>\n",
       "      <td>Kenya</td>\n",
       "      <td>47382</td>\n",
       "      <td>~47000</td>\n",
       "    </tr>\n",
       "    <tr>\n",
       "      <th>2</th>\n",
       "      <td>El Salvador</td>\n",
       "      <td>22021</td>\n",
       "      <td>~22000</td>\n",
       "    </tr>\n",
       "    <tr>\n",
       "      <th>3</th>\n",
       "      <td>Cambodia</td>\n",
       "      <td>11744</td>\n",
       "      <td>&gt;5000 &lt;=12000</td>\n",
       "    </tr>\n",
       "    <tr>\n",
       "      <th>4</th>\n",
       "      <td>Peru</td>\n",
       "      <td>11624</td>\n",
       "      <td>&gt;5000 &lt;=12000</td>\n",
       "    </tr>\n",
       "    <tr>\n",
       "      <th>...</th>\n",
       "      <td>...</td>\n",
       "      <td>...</td>\n",
       "      <td>...</td>\n",
       "    </tr>\n",
       "    <tr>\n",
       "      <th>73</th>\n",
       "      <td>Puerto Rico</td>\n",
       "      <td>31</td>\n",
       "      <td>&lt;=1000</td>\n",
       "    </tr>\n",
       "    <tr>\n",
       "      <th>74</th>\n",
       "      <td>Somalia</td>\n",
       "      <td>16</td>\n",
       "      <td>&lt;=1000</td>\n",
       "    </tr>\n",
       "    <tr>\n",
       "      <th>75</th>\n",
       "      <td>Saint Vincent and the Grenadines</td>\n",
       "      <td>8</td>\n",
       "      <td>&lt;=1000</td>\n",
       "    </tr>\n",
       "    <tr>\n",
       "      <th>76</th>\n",
       "      <td>Chile</td>\n",
       "      <td>2</td>\n",
       "      <td>&lt;=1000</td>\n",
       "    </tr>\n",
       "    <tr>\n",
       "      <th>77</th>\n",
       "      <td>Cote D'Ivoire</td>\n",
       "      <td>1</td>\n",
       "      <td>&lt;=1000</td>\n",
       "    </tr>\n",
       "  </tbody>\n",
       "</table>\n",
       "<p>78 rows × 3 columns</p>\n",
       "</div>"
      ],
      "text/plain": [
       "                             country  number_of_projects  \\\n",
       "0                        Philippines               79446   \n",
       "1                              Kenya               47382   \n",
       "2                        El Salvador               22021   \n",
       "3                           Cambodia               11744   \n",
       "4                               Peru               11624   \n",
       "..                               ...                 ...   \n",
       "73                       Puerto Rico                  31   \n",
       "74                           Somalia                  16   \n",
       "75  Saint Vincent and the Grenadines                   8   \n",
       "76                             Chile                   2   \n",
       "77                     Cote D'Ivoire                   1   \n",
       "\n",
       "   number_of_projects_cat  \n",
       "0                  ~79000  \n",
       "1                  ~47000  \n",
       "2                  ~22000  \n",
       "3           >5000 <=12000  \n",
       "4           >5000 <=12000  \n",
       "..                    ...  \n",
       "73                 <=1000  \n",
       "74                 <=1000  \n",
       "75                 <=1000  \n",
       "76                 <=1000  \n",
       "77                 <=1000  \n",
       "\n",
       "[78 rows x 3 columns]"
      ]
     },
     "execution_count": 10,
     "metadata": {},
     "output_type": "execute_result"
    }
   ],
   "source": [
    "# labels definieren\n",
    "my_label = ['<=1000', '>1000 <=5000', '>5000 <=12000', '~22000', '~47000', '~79000']                                    \n",
    "\n",
    "# Kategoriegrenzen definieren\n",
    "my_bins = [0, 1000, 5000, 12000, 23000, 48000, 80000]                       \n",
    "\n",
    "# Kategorie-Spalte erstellen\n",
    "df_limit_nr_of_project.loc[:, 'number_of_projects_cat'] = pd.cut(\n",
    "    x=df_limit_nr_of_project.loc[:, 'number_of_projects'],\n",
    "    bins=my_bins,\n",
    "    labels=my_label\n",
    ")\n",
    "\n",
    "# NULL-Werte entfernen (Länder mit 0 Projekten mit Lebensmittelbezug)\n",
    "df_limit_nr_of_project.dropna(subset=['number_of_projects_cat'], inplace=True)\n",
    "\n",
    "# df anzeigen\n",
    "df_limit_nr_of_project"
   ]
  },
  {
   "cell_type": "markdown",
   "id": "dc5dc128",
   "metadata": {},
   "source": [
    "Auf Basis dieses df erstelle ich jetzt eine choropleth map. Diese zeigt farblich die Anzahl der Projekte pro Land auf einer Weltkarte."
   ]
  },
  {
   "cell_type": "code",
   "execution_count": 11,
   "id": "e6f9b9b6",
   "metadata": {
    "scrolled": false
   },
   "outputs": [
    {
     "data": {
      "application/vnd.plotly.v1+json": {
       "config": {
        "plotlyServerURL": "https://plot.ly"
       },
       "data": [
        {
         "colorscale": [
          [
           0,
           "#a70000"
          ],
          [
           1,
           "#a70000"
          ]
         ],
         "geo": "geo",
         "hovertemplate": "Projektanzahl=~79000<br>country=%{location}<extra></extra>",
         "locationmode": "country names",
         "locations": [
          "Philippines"
         ],
         "name": "~79000",
         "showlegend": true,
         "showscale": false,
         "type": "choropleth",
         "z": [
          1
         ]
        },
        {
         "colorscale": [
          [
           0,
           "#ff0000"
          ],
          [
           1,
           "#ff0000"
          ]
         ],
         "geo": "geo",
         "hovertemplate": "Projektanzahl=~47000<br>country=%{location}<extra></extra>",
         "locationmode": "country names",
         "locations": [
          "Kenya"
         ],
         "name": "~47000",
         "showlegend": true,
         "showscale": false,
         "type": "choropleth",
         "z": [
          1
         ]
        },
        {
         "colorscale": [
          [
           0,
           "#ff5252"
          ],
          [
           1,
           "#ff5252"
          ]
         ],
         "geo": "geo",
         "hovertemplate": "Projektanzahl=~22000<br>country=%{location}<extra></extra>",
         "locationmode": "country names",
         "locations": [
          "El Salvador"
         ],
         "name": "~22000",
         "showlegend": true,
         "showscale": false,
         "type": "choropleth",
         "z": [
          1
         ]
        },
        {
         "colorscale": [
          [
           0,
           "#77ab59"
          ],
          [
           1,
           "#77ab59"
          ]
         ],
         "geo": "geo",
         "hovertemplate": "Projektanzahl=>5000 <=12000<br>country=%{location}<extra></extra>",
         "locationmode": "country names",
         "locations": [
          "Cambodia",
          "Peru",
          "Uganda",
          "Colombia",
          "Tajikistan",
          "Ecuador",
          "Pakistan",
          "Nigeria",
          "India",
          "Samoa",
          "Mali"
         ],
         "name": ">5000 <=12000",
         "showlegend": true,
         "showscale": false,
         "type": "choropleth",
         "z": [
          1,
          1,
          1,
          1,
          1,
          1,
          1,
          1,
          1,
          1,
          1
         ]
        },
        {
         "colorscale": [
          [
           0,
           "#c9df8a"
          ],
          [
           1,
           "#c9df8a"
          ]
         ],
         "geo": "geo",
         "hovertemplate": "Projektanzahl=>1000 <=5000<br>country=%{location}<extra></extra>",
         "locationmode": "country names",
         "locations": [
          "Armenia",
          "Kyrgyzstan",
          "Honduras",
          "Vietnam",
          "Nicaragua",
          "Rwanda",
          "Bolivia",
          "Guatemala",
          "Paraguay",
          "Togo",
          "Sierra Leone",
          "Tanzania",
          "Ghana",
          "Madagascar",
          "Liberia",
          "Senegal",
          "Zimbabwe",
          "Palestine",
          "Myanmar (Burma)",
          "United States",
          "Burkina Faso",
          "The Democratic Republic of the Congo",
          "Haiti",
          "Mexico",
          "Lebanon",
          "Cameroon",
          "Azerbaijan",
          "Indonesia",
          "Georgia",
          "Egypt",
          "Costa Rica"
         ],
         "name": ">1000 <=5000",
         "showlegend": true,
         "showscale": false,
         "type": "choropleth",
         "z": [
          1,
          1,
          1,
          1,
          1,
          1,
          1,
          1,
          1,
          1,
          1,
          1,
          1,
          1,
          1,
          1,
          1,
          1,
          1,
          1,
          1,
          1,
          1,
          1,
          1,
          1,
          1,
          1,
          1,
          1,
          1
         ]
        },
        {
         "colorscale": [
          [
           0,
           "#f0f7da"
          ],
          [
           1,
           "#f0f7da"
          ]
         ],
         "geo": "geo",
         "hovertemplate": "Projektanzahl=<=1000<br>country=%{location}<extra></extra>",
         "locationmode": "country names",
         "locations": [
          "Albania",
          "Malawi",
          "Jordan",
          "Nepal",
          "Kosovo",
          "Mozambique",
          "Burundi",
          "Timor-Leste",
          "Yemen",
          "Turkey",
          "Solomon Islands",
          "Moldova",
          "Ukraine",
          "Benin",
          "Suriname",
          "Zambia",
          "Belize",
          "Mongolia",
          "Dominican Republic",
          "Iraq",
          "Thailand",
          "Panama",
          "Congo",
          "South Africa",
          "China",
          "Brazil",
          "South Sudan",
          "Israel",
          "Puerto Rico",
          "Somalia",
          "Saint Vincent and the Grenadines",
          "Chile",
          "Cote D'Ivoire"
         ],
         "name": "<=1000",
         "showlegend": true,
         "showscale": false,
         "type": "choropleth",
         "z": [
          1,
          1,
          1,
          1,
          1,
          1,
          1,
          1,
          1,
          1,
          1,
          1,
          1,
          1,
          1,
          1,
          1,
          1,
          1,
          1,
          1,
          1,
          1,
          1,
          1,
          1,
          1,
          1,
          1,
          1,
          1,
          1,
          1
         ]
        }
       ],
       "layout": {
        "geo": {
         "center": {},
         "domain": {
          "x": [
           0,
           1
          ],
          "y": [
           0,
           1
          ]
         },
         "projection": {
          "type": "mercator"
         },
         "scope": "world"
        },
        "height": 1500,
        "legend": {
         "font": {
          "size": 18
         },
         "title": {
          "text": "Projektanzahl"
         },
         "tracegroupgap": 0,
         "x": 0.98,
         "xanchor": "right",
         "y": 0.99,
         "yanchor": "top"
        },
        "template": {
         "data": {
          "bar": [
           {
            "error_x": {
             "color": "rgb(36,36,36)"
            },
            "error_y": {
             "color": "rgb(36,36,36)"
            },
            "marker": {
             "line": {
              "color": "white",
              "width": 0.5
             },
             "pattern": {
              "fillmode": "overlay",
              "size": 10,
              "solidity": 0.2
             }
            },
            "type": "bar"
           }
          ],
          "barpolar": [
           {
            "marker": {
             "line": {
              "color": "white",
              "width": 0.5
             },
             "pattern": {
              "fillmode": "overlay",
              "size": 10,
              "solidity": 0.2
             }
            },
            "type": "barpolar"
           }
          ],
          "carpet": [
           {
            "aaxis": {
             "endlinecolor": "rgb(36,36,36)",
             "gridcolor": "white",
             "linecolor": "white",
             "minorgridcolor": "white",
             "startlinecolor": "rgb(36,36,36)"
            },
            "baxis": {
             "endlinecolor": "rgb(36,36,36)",
             "gridcolor": "white",
             "linecolor": "white",
             "minorgridcolor": "white",
             "startlinecolor": "rgb(36,36,36)"
            },
            "type": "carpet"
           }
          ],
          "choropleth": [
           {
            "colorbar": {
             "outlinewidth": 1,
             "tickcolor": "rgb(36,36,36)",
             "ticks": "outside"
            },
            "type": "choropleth"
           }
          ],
          "contour": [
           {
            "colorbar": {
             "outlinewidth": 1,
             "tickcolor": "rgb(36,36,36)",
             "ticks": "outside"
            },
            "colorscale": [
             [
              0,
              "#440154"
             ],
             [
              0.1111111111111111,
              "#482878"
             ],
             [
              0.2222222222222222,
              "#3e4989"
             ],
             [
              0.3333333333333333,
              "#31688e"
             ],
             [
              0.4444444444444444,
              "#26828e"
             ],
             [
              0.5555555555555556,
              "#1f9e89"
             ],
             [
              0.6666666666666666,
              "#35b779"
             ],
             [
              0.7777777777777778,
              "#6ece58"
             ],
             [
              0.8888888888888888,
              "#b5de2b"
             ],
             [
              1,
              "#fde725"
             ]
            ],
            "type": "contour"
           }
          ],
          "contourcarpet": [
           {
            "colorbar": {
             "outlinewidth": 1,
             "tickcolor": "rgb(36,36,36)",
             "ticks": "outside"
            },
            "type": "contourcarpet"
           }
          ],
          "heatmap": [
           {
            "colorbar": {
             "outlinewidth": 1,
             "tickcolor": "rgb(36,36,36)",
             "ticks": "outside"
            },
            "colorscale": [
             [
              0,
              "#440154"
             ],
             [
              0.1111111111111111,
              "#482878"
             ],
             [
              0.2222222222222222,
              "#3e4989"
             ],
             [
              0.3333333333333333,
              "#31688e"
             ],
             [
              0.4444444444444444,
              "#26828e"
             ],
             [
              0.5555555555555556,
              "#1f9e89"
             ],
             [
              0.6666666666666666,
              "#35b779"
             ],
             [
              0.7777777777777778,
              "#6ece58"
             ],
             [
              0.8888888888888888,
              "#b5de2b"
             ],
             [
              1,
              "#fde725"
             ]
            ],
            "type": "heatmap"
           }
          ],
          "heatmapgl": [
           {
            "colorbar": {
             "outlinewidth": 1,
             "tickcolor": "rgb(36,36,36)",
             "ticks": "outside"
            },
            "colorscale": [
             [
              0,
              "#440154"
             ],
             [
              0.1111111111111111,
              "#482878"
             ],
             [
              0.2222222222222222,
              "#3e4989"
             ],
             [
              0.3333333333333333,
              "#31688e"
             ],
             [
              0.4444444444444444,
              "#26828e"
             ],
             [
              0.5555555555555556,
              "#1f9e89"
             ],
             [
              0.6666666666666666,
              "#35b779"
             ],
             [
              0.7777777777777778,
              "#6ece58"
             ],
             [
              0.8888888888888888,
              "#b5de2b"
             ],
             [
              1,
              "#fde725"
             ]
            ],
            "type": "heatmapgl"
           }
          ],
          "histogram": [
           {
            "marker": {
             "line": {
              "color": "white",
              "width": 0.6
             }
            },
            "type": "histogram"
           }
          ],
          "histogram2d": [
           {
            "colorbar": {
             "outlinewidth": 1,
             "tickcolor": "rgb(36,36,36)",
             "ticks": "outside"
            },
            "colorscale": [
             [
              0,
              "#440154"
             ],
             [
              0.1111111111111111,
              "#482878"
             ],
             [
              0.2222222222222222,
              "#3e4989"
             ],
             [
              0.3333333333333333,
              "#31688e"
             ],
             [
              0.4444444444444444,
              "#26828e"
             ],
             [
              0.5555555555555556,
              "#1f9e89"
             ],
             [
              0.6666666666666666,
              "#35b779"
             ],
             [
              0.7777777777777778,
              "#6ece58"
             ],
             [
              0.8888888888888888,
              "#b5de2b"
             ],
             [
              1,
              "#fde725"
             ]
            ],
            "type": "histogram2d"
           }
          ],
          "histogram2dcontour": [
           {
            "colorbar": {
             "outlinewidth": 1,
             "tickcolor": "rgb(36,36,36)",
             "ticks": "outside"
            },
            "colorscale": [
             [
              0,
              "#440154"
             ],
             [
              0.1111111111111111,
              "#482878"
             ],
             [
              0.2222222222222222,
              "#3e4989"
             ],
             [
              0.3333333333333333,
              "#31688e"
             ],
             [
              0.4444444444444444,
              "#26828e"
             ],
             [
              0.5555555555555556,
              "#1f9e89"
             ],
             [
              0.6666666666666666,
              "#35b779"
             ],
             [
              0.7777777777777778,
              "#6ece58"
             ],
             [
              0.8888888888888888,
              "#b5de2b"
             ],
             [
              1,
              "#fde725"
             ]
            ],
            "type": "histogram2dcontour"
           }
          ],
          "mesh3d": [
           {
            "colorbar": {
             "outlinewidth": 1,
             "tickcolor": "rgb(36,36,36)",
             "ticks": "outside"
            },
            "type": "mesh3d"
           }
          ],
          "parcoords": [
           {
            "line": {
             "colorbar": {
              "outlinewidth": 1,
              "tickcolor": "rgb(36,36,36)",
              "ticks": "outside"
             }
            },
            "type": "parcoords"
           }
          ],
          "pie": [
           {
            "automargin": true,
            "type": "pie"
           }
          ],
          "scatter": [
           {
            "fillpattern": {
             "fillmode": "overlay",
             "size": 10,
             "solidity": 0.2
            },
            "type": "scatter"
           }
          ],
          "scatter3d": [
           {
            "line": {
             "colorbar": {
              "outlinewidth": 1,
              "tickcolor": "rgb(36,36,36)",
              "ticks": "outside"
             }
            },
            "marker": {
             "colorbar": {
              "outlinewidth": 1,
              "tickcolor": "rgb(36,36,36)",
              "ticks": "outside"
             }
            },
            "type": "scatter3d"
           }
          ],
          "scattercarpet": [
           {
            "marker": {
             "colorbar": {
              "outlinewidth": 1,
              "tickcolor": "rgb(36,36,36)",
              "ticks": "outside"
             }
            },
            "type": "scattercarpet"
           }
          ],
          "scattergeo": [
           {
            "marker": {
             "colorbar": {
              "outlinewidth": 1,
              "tickcolor": "rgb(36,36,36)",
              "ticks": "outside"
             }
            },
            "type": "scattergeo"
           }
          ],
          "scattergl": [
           {
            "marker": {
             "colorbar": {
              "outlinewidth": 1,
              "tickcolor": "rgb(36,36,36)",
              "ticks": "outside"
             }
            },
            "type": "scattergl"
           }
          ],
          "scattermapbox": [
           {
            "marker": {
             "colorbar": {
              "outlinewidth": 1,
              "tickcolor": "rgb(36,36,36)",
              "ticks": "outside"
             }
            },
            "type": "scattermapbox"
           }
          ],
          "scatterpolar": [
           {
            "marker": {
             "colorbar": {
              "outlinewidth": 1,
              "tickcolor": "rgb(36,36,36)",
              "ticks": "outside"
             }
            },
            "type": "scatterpolar"
           }
          ],
          "scatterpolargl": [
           {
            "marker": {
             "colorbar": {
              "outlinewidth": 1,
              "tickcolor": "rgb(36,36,36)",
              "ticks": "outside"
             }
            },
            "type": "scatterpolargl"
           }
          ],
          "scatterternary": [
           {
            "marker": {
             "colorbar": {
              "outlinewidth": 1,
              "tickcolor": "rgb(36,36,36)",
              "ticks": "outside"
             }
            },
            "type": "scatterternary"
           }
          ],
          "surface": [
           {
            "colorbar": {
             "outlinewidth": 1,
             "tickcolor": "rgb(36,36,36)",
             "ticks": "outside"
            },
            "colorscale": [
             [
              0,
              "#440154"
             ],
             [
              0.1111111111111111,
              "#482878"
             ],
             [
              0.2222222222222222,
              "#3e4989"
             ],
             [
              0.3333333333333333,
              "#31688e"
             ],
             [
              0.4444444444444444,
              "#26828e"
             ],
             [
              0.5555555555555556,
              "#1f9e89"
             ],
             [
              0.6666666666666666,
              "#35b779"
             ],
             [
              0.7777777777777778,
              "#6ece58"
             ],
             [
              0.8888888888888888,
              "#b5de2b"
             ],
             [
              1,
              "#fde725"
             ]
            ],
            "type": "surface"
           }
          ],
          "table": [
           {
            "cells": {
             "fill": {
              "color": "rgb(237,237,237)"
             },
             "line": {
              "color": "white"
             }
            },
            "header": {
             "fill": {
              "color": "rgb(217,217,217)"
             },
             "line": {
              "color": "white"
             }
            },
            "type": "table"
           }
          ]
         },
         "layout": {
          "annotationdefaults": {
           "arrowhead": 0,
           "arrowwidth": 1
          },
          "autotypenumbers": "strict",
          "coloraxis": {
           "colorbar": {
            "outlinewidth": 1,
            "tickcolor": "rgb(36,36,36)",
            "ticks": "outside"
           }
          },
          "colorscale": {
           "diverging": [
            [
             0,
             "rgb(103,0,31)"
            ],
            [
             0.1,
             "rgb(178,24,43)"
            ],
            [
             0.2,
             "rgb(214,96,77)"
            ],
            [
             0.3,
             "rgb(244,165,130)"
            ],
            [
             0.4,
             "rgb(253,219,199)"
            ],
            [
             0.5,
             "rgb(247,247,247)"
            ],
            [
             0.6,
             "rgb(209,229,240)"
            ],
            [
             0.7,
             "rgb(146,197,222)"
            ],
            [
             0.8,
             "rgb(67,147,195)"
            ],
            [
             0.9,
             "rgb(33,102,172)"
            ],
            [
             1,
             "rgb(5,48,97)"
            ]
           ],
           "sequential": [
            [
             0,
             "#440154"
            ],
            [
             0.1111111111111111,
             "#482878"
            ],
            [
             0.2222222222222222,
             "#3e4989"
            ],
            [
             0.3333333333333333,
             "#31688e"
            ],
            [
             0.4444444444444444,
             "#26828e"
            ],
            [
             0.5555555555555556,
             "#1f9e89"
            ],
            [
             0.6666666666666666,
             "#35b779"
            ],
            [
             0.7777777777777778,
             "#6ece58"
            ],
            [
             0.8888888888888888,
             "#b5de2b"
            ],
            [
             1,
             "#fde725"
            ]
           ],
           "sequentialminus": [
            [
             0,
             "#440154"
            ],
            [
             0.1111111111111111,
             "#482878"
            ],
            [
             0.2222222222222222,
             "#3e4989"
            ],
            [
             0.3333333333333333,
             "#31688e"
            ],
            [
             0.4444444444444444,
             "#26828e"
            ],
            [
             0.5555555555555556,
             "#1f9e89"
            ],
            [
             0.6666666666666666,
             "#35b779"
            ],
            [
             0.7777777777777778,
             "#6ece58"
            ],
            [
             0.8888888888888888,
             "#b5de2b"
            ],
            [
             1,
             "#fde725"
            ]
           ]
          },
          "colorway": [
           "#1F77B4",
           "#FF7F0E",
           "#2CA02C",
           "#D62728",
           "#9467BD",
           "#8C564B",
           "#E377C2",
           "#7F7F7F",
           "#BCBD22",
           "#17BECF"
          ],
          "font": {
           "color": "rgb(36,36,36)"
          },
          "geo": {
           "bgcolor": "white",
           "lakecolor": "white",
           "landcolor": "white",
           "showlakes": true,
           "showland": true,
           "subunitcolor": "white"
          },
          "hoverlabel": {
           "align": "left"
          },
          "hovermode": "closest",
          "mapbox": {
           "style": "light"
          },
          "paper_bgcolor": "white",
          "plot_bgcolor": "white",
          "polar": {
           "angularaxis": {
            "gridcolor": "rgb(232,232,232)",
            "linecolor": "rgb(36,36,36)",
            "showgrid": false,
            "showline": true,
            "ticks": "outside"
           },
           "bgcolor": "white",
           "radialaxis": {
            "gridcolor": "rgb(232,232,232)",
            "linecolor": "rgb(36,36,36)",
            "showgrid": false,
            "showline": true,
            "ticks": "outside"
           }
          },
          "scene": {
           "xaxis": {
            "backgroundcolor": "white",
            "gridcolor": "rgb(232,232,232)",
            "gridwidth": 2,
            "linecolor": "rgb(36,36,36)",
            "showbackground": true,
            "showgrid": false,
            "showline": true,
            "ticks": "outside",
            "zeroline": false,
            "zerolinecolor": "rgb(36,36,36)"
           },
           "yaxis": {
            "backgroundcolor": "white",
            "gridcolor": "rgb(232,232,232)",
            "gridwidth": 2,
            "linecolor": "rgb(36,36,36)",
            "showbackground": true,
            "showgrid": false,
            "showline": true,
            "ticks": "outside",
            "zeroline": false,
            "zerolinecolor": "rgb(36,36,36)"
           },
           "zaxis": {
            "backgroundcolor": "white",
            "gridcolor": "rgb(232,232,232)",
            "gridwidth": 2,
            "linecolor": "rgb(36,36,36)",
            "showbackground": true,
            "showgrid": false,
            "showline": true,
            "ticks": "outside",
            "zeroline": false,
            "zerolinecolor": "rgb(36,36,36)"
           }
          },
          "shapedefaults": {
           "fillcolor": "black",
           "line": {
            "width": 0
           },
           "opacity": 0.3
          },
          "ternary": {
           "aaxis": {
            "gridcolor": "rgb(232,232,232)",
            "linecolor": "rgb(36,36,36)",
            "showgrid": false,
            "showline": true,
            "ticks": "outside"
           },
           "baxis": {
            "gridcolor": "rgb(232,232,232)",
            "linecolor": "rgb(36,36,36)",
            "showgrid": false,
            "showline": true,
            "ticks": "outside"
           },
           "bgcolor": "white",
           "caxis": {
            "gridcolor": "rgb(232,232,232)",
            "linecolor": "rgb(36,36,36)",
            "showgrid": false,
            "showline": true,
            "ticks": "outside"
           }
          },
          "title": {
           "x": 0.05
          },
          "xaxis": {
           "automargin": true,
           "gridcolor": "rgb(232,232,232)",
           "linecolor": "rgb(36,36,36)",
           "showgrid": false,
           "showline": true,
           "ticks": "outside",
           "title": {
            "standoff": 15
           },
           "zeroline": false,
           "zerolinecolor": "rgb(36,36,36)"
          },
          "yaxis": {
           "automargin": true,
           "gridcolor": "rgb(232,232,232)",
           "linecolor": "rgb(36,36,36)",
           "showgrid": false,
           "showline": true,
           "ticks": "outside",
           "title": {
            "standoff": 15
           },
           "zeroline": false,
           "zerolinecolor": "rgb(36,36,36)"
          }
         }
        },
        "title": {
         "font": {
          "size": 25
         },
         "text": "Projektanzahl mit Lebensmittelbezug weltweit",
         "x": 0.5
        },
        "width": 1500
       }
      }
     },
     "metadata": {},
     "output_type": "display_data"
    }
   ],
   "source": [
    "# choropleth erstellen\n",
    "geo_food = px.choropleth(\n",
    "    df_limit_nr_of_project,\n",
    "    locations=\"country\",\n",
    "    locationmode='country names',                           # so kann die map die Länderschreibweise aus dem df interpretieren\n",
    "    color='number_of_projects_cat',                         # Farbe orientiert sich an Anzahl-Kategorie-Spalte\n",
    "    template='simple_white',                                # Template wieder simple white\n",
    "    title='Projektanzahl mit Lebensmittelbezug weltweit',\n",
    "    width=1500,                                             # Breite manuell anpassen\n",
    "    height=1500,                                            # Höhe manuell anpassen\n",
    "    projection='mercator',                                  # mit dieser Projektion sieht man am meisten\n",
    "    scope='world',                                          # dargestellt wird die gesamte Welt\n",
    "    color_discrete_map={                                    # den einzelnen Anzahl-Kategorien eine bestimmte Farbe zuweisen (grüner Verlauf)\n",
    "        '<=1000': '#f0f7da',\n",
    "        '>1000 <=5000': '#c9df8a',\n",
    "        '>5000 <=12000': '#77ab59',\n",
    "        '~22000': '#ff5252',\n",
    "        '~47000': '#ff0000',\n",
    "        '~79000': '#a70000'\n",
    "    },\n",
    "    labels={'number_of_projects_cat': 'Projektanzahl'}\n",
    ")\n",
    "\n",
    "# Layout anpassen\n",
    "geo_food.update_layout(\n",
    "    title_x = 0.5,                                          # Titel in die Mitte schieben\n",
    "    title_font=dict(size=25),                               # Schriftgröße des Titels anpassen\n",
    "    legend=dict(                                            # Legende anpassen (Schriftgröße und Position)\n",
    "        font=dict(size= 18),\n",
    "        yanchor=\"top\",\n",
    "        y=0.99,\n",
    "        xanchor=\"right\",\n",
    "        x=0.98\n",
    "    )\n",
    ")\n",
    "\n",
    "# choropleth anzeigen\n",
    "geo_food.show()"
   ]
  },
  {
   "cell_type": "markdown",
   "id": "8cc45326",
   "metadata": {},
   "source": [
    "**Deskriptiver Part:**\n",
    "- das Diagramm zeigt eine Weltkarte (es kann rein und rausgezoomt werden)\n",
    "- die Länder wurden abhängig von ihrer Anzahl angemeldeter Projekte in Kategorien eingeteilt - diese sind in der Legende zu sehen\n",
    "    - es gibt drei Kategorien, die in einer grünen Farbpalette eingefärbt wurden (hier sind jeweils mehrere Länder in jeder Kategorie - Intensität mit Projektanzahl steigend)\n",
    "    - außerdem gibt es drei Extremwerte, die sich deutlich von den Gruppen aber auch von den anderen Extremwerten unterscheiden\n",
    "        - diese sind rot eingefärbt (Intensität mit Projektanzahl steigend)\n",
    "- es fällt auf, dass vor allem Amerika, Südostafrika, der nahe Osten und Asien eingefärbt sind\n",
    "- Extremwerte liegen auf den Phillipinen, in Kenia und in El Salvador\n",
    "\n",
    "**Analytischer Part:**<br>\n",
    "Es fallen zwei Dinge auf:\n",
    "1. Die drei Länder mit den höchsten Werten (rot) heben sich DEUTLICH von den Gruppen (grün) aber auch voneinander ab. Was macht sie aus?\n",
    "2. Manche Bereiche (Europa, Ozeanien, Russland, Nordafrika, Kanada und anderen einzelne Länder) haben gar keine lebensmittelbezogenen Projekte angemeldet. Was unterscheidet diese Bereiche von den eingefärbten? Haben sie keinen Zugang zu unserer Website oder können keine Projekte anmelden? Brauchen sie keine Projekte, weil sie von ihrem jeweiligen Staat unterstützt werden?\n",
    "\n",
    "Was könnte man darauf aufbauend machen?\n",
    "- unsere anderen Projekte (einzeln und zusammen) auf einer solchen Karte mappen\n",
    "    - so kann man Zugung zur Website und Projektanmeldung untersuchen\n",
    "    - außerdem kann man so Interesse der Länder an Projekten aus verschiedenen Sektoren abbilden\n",
    "- das BIP der Länder mit einbeziehen\n",
    "    - Lebensmittelindustrie spiegelt eines unserer Grundbedürfnisse wieder. Vielleicht melden viele Länder solche lebensmittelbezogenen Projekte an, weil sie dieses Bedürfnis so besser erfüllt bekommen?\n",
    "- die Politik der Ländern mit einbeziehen\n",
    "    - staatliche Subventionen in der Lebensmittelindustrie?"
   ]
  },
  {
   "cell_type": "markdown",
   "id": "3629a298",
   "metadata": {},
   "source": [
    "# Dashboards"
   ]
  },
  {
   "cell_type": "markdown",
   "id": "c9068865",
   "metadata": {},
   "source": [
    "## Projektanzahl mit Lebensmittelbezug mit auswählbarem Sichtbereich"
   ]
  },
  {
   "cell_type": "code",
   "execution_count": 12,
   "id": "c89c0739",
   "metadata": {
    "scrolled": false
   },
   "outputs": [
    {
     "name": "stdout",
     "output_type": "stream",
     "text": [
      "Dash app running on http://127.0.0.1:8891/\n"
     ]
    },
    {
     "data": {
      "application/javascript": "window.open('http://127.0.0.1:8891/')",
      "text/plain": [
       "<IPython.core.display.Javascript object>"
      ]
     },
     "metadata": {},
     "output_type": "display_data"
    }
   ],
   "source": [
    "# 1. App erstellen\n",
    "\n",
    "choropleth_scope = Dash(__name__)\n",
    "\n",
    "\n",
    "\n",
    "# 2. Layout festlegen\n",
    "\n",
    "choropleth_scope.layout = html.Div(\n",
    "    # Liste mit allen Core Components und HTML Components\n",
    "    children=[\n",
    "        # Überschrift\n",
    "        html.H1(\n",
    "            children='Projektanzahl mit Lebensmittelbezug mit auswählbarem Sichtbereich',\n",
    "            style={'text-align': 'center'}\n",
    "        ),\n",
    "        \n",
    "        # Dropdown\n",
    "        dcc.Dropdown(\n",
    "            id='dd_scope', # unique identifier für den callback\n",
    "            options=['world', 'europe', 'asia', 'africa', 'north america', 'south america'],\n",
    "            placeholder='Sichtbereich wählen:',\n",
    "            value='world',\n",
    "            style={'width': '40%'} # Breite der Dropdown Liste anpassen\n",
    "        ),\n",
    "        \n",
    "        # Grafik\n",
    "        dcc.Graph(\n",
    "            id='choro_nr_of_projects_per_scope', # unique identifier für den callback\n",
    "            figure={} # hier wird return value vom callback reingeschrieben\n",
    "        )\n",
    "    ]\n",
    ")\n",
    "\n",
    "\n",
    "\n",
    "# 3. Callback erstellen \n",
    "\n",
    "@choropleth_scope.callback(\n",
    "    Output(component_id='choro_nr_of_projects_per_scope', component_property='figure'),\n",
    "    Input(component_id='dd_scope', component_property='value')\n",
    ")\n",
    "def update_choro(selected_scope):\n",
    "    \n",
    "    # df anreichern und einschränken\n",
    "    \n",
    "    # weitere Spalte mit Kategorie hinzufügen\n",
    "    df['category'] = df['sector'].apply(lambda x: 'Food Industry' if x in('Agriculture', 'Food') else 'Other')\n",
    "    \n",
    "    # df einschränken auf Kategorie Food Industry\n",
    "    df_limit = df.loc[df.loc[:, 'category']=='Food Industry', :].copy()\n",
    "    \n",
    "    \n",
    "    # df gruppieren und zählen\n",
    "    \n",
    "    # df nach country gruppieren und die Anzahl der Projekte zählen\n",
    "    df_limit_nr_of_project = df_limit.groupby(by='country').size().reset_index(name='number_of_projects')\n",
    "\n",
    "    # df nach Anzahl der Projekte sortieren\n",
    "    df_limit_nr_of_project.sort_values(by='number_of_projects', ascending=False, inplace=True)\n",
    "\n",
    "    # df index zurücksetzen\n",
    "    df_limit_nr_of_project.reset_index(drop=True, inplace=True)\n",
    "    \n",
    "    \n",
    "    # Kategorien definieren\n",
    "    \n",
    "    # labels definieren\n",
    "    my_label = ['<=1000', '>1000 <=5000', '>5000 <=12000', '~22000', '~47000', '~79000']                                    \n",
    "\n",
    "    # Kategoriegrenzen definieren\n",
    "    my_bins = [0, 1000, 5000, 12000, 23000, 48000, 80000]                       \n",
    "\n",
    "    # Kategorie-Spalte erstellen\n",
    "    df_limit_nr_of_project.loc[:, 'number_of_projects_cat'] = pd.cut(\n",
    "        x=df_limit_nr_of_project.loc[:, 'number_of_projects'],\n",
    "        bins=my_bins,\n",
    "        labels=my_label\n",
    "    )\n",
    "\n",
    "    # NULL-Werte entfernen (Länder mit 0 Projekten mit Lebensmittelbezug)\n",
    "    df_limit_nr_of_project.dropna(subset=['number_of_projects_cat'], inplace=True)\n",
    "    \n",
    "    scope_=selected_scope\n",
    "    \n",
    "    # Plotten\n",
    "    \n",
    "    # choropleth erstellen\n",
    "    geo_food_industry = px.choropleth(\n",
    "        df_limit_nr_of_project,\n",
    "        locations=\"country\",\n",
    "        locationmode='country names',                           # so kann er die Länderschreibweise aus dem df interpretieren\n",
    "        color='number_of_projects_cat',                         # Farbe orientiert sich an Anzahl-Kategorie-Spalte\n",
    "        template='simple_white',                                # Template wieder simple white\n",
    "        width=1500,                                             # Breite manuell anpassen\n",
    "        height=1500,                                            # Höhe manuell anpassen\n",
    "        projection='mercator',                                  # mit dieser Projektion sieht man am meisten\n",
    "        scope=scope_,                                           # Sichtbereich\n",
    "        color_discrete_map={                                    # den einzelnen Anzahl-Kategorien eine bestimmte Farbe zuweisen (grüner Verlauf)\n",
    "            '<=1000': '#f0f7da',\n",
    "            '>1000 <=5000': '#c9df8a',\n",
    "            '>5000 <=12000': '#77ab59',\n",
    "            '~22000': '#ff5252',\n",
    "            '~47000': '#ff0000',\n",
    "            '~79000': '#a70000'\n",
    "        },\n",
    "        labels={'number_of_projects_cat': 'Projektanzahl'}\n",
    "    )\n",
    "    \n",
    "    return geo_food_industry\n",
    "\n",
    "\n",
    "\n",
    "# 4. App starten\n",
    "\n",
    "choropleth_scope.run(\n",
    "    port=8891,\n",
    "    jupyter_mode=\"tab\"\n",
    ")"
   ]
  },
  {
   "cell_type": "code",
   "execution_count": null,
   "id": "b0e13998",
   "metadata": {},
   "outputs": [],
   "source": []
  }
 ],
 "metadata": {
  "kernelspec": {
   "display_name": "Python 3 (ipykernel)",
   "language": "python",
   "name": "python3"
  },
  "language_info": {
   "codemirror_mode": {
    "name": "ipython",
    "version": 3
   },
   "file_extension": ".py",
   "mimetype": "text/x-python",
   "name": "python",
   "nbconvert_exporter": "python",
   "pygments_lexer": "ipython3",
   "version": "3.11.3"
  },
  "toc": {
   "base_numbering": 1,
   "nav_menu": {},
   "number_sections": true,
   "sideBar": true,
   "skip_h1_title": false,
   "title_cell": "Table of Contents",
   "title_sidebar": "Contents",
   "toc_cell": false,
   "toc_position": {
    "height": "calc(100% - 180px)",
    "left": "10px",
    "top": "150px",
    "width": "404.188px"
   },
   "toc_section_display": true,
   "toc_window_display": false
  }
 },
 "nbformat": 4,
 "nbformat_minor": 5
}
