{
 "cells": [
  {
   "cell_type": "markdown",
   "id": "189418f0",
   "metadata": {},
   "source": [
    "# Ausgangssituation"
   ]
  },
  {
   "cell_type": "markdown",
   "id": "609bc7ef",
   "metadata": {},
   "source": [
    "## Aufgabe"
   ]
  },
  {
   "cell_type": "markdown",
   "id": "06e4766e",
   "metadata": {},
   "source": [
    "Du arbeitest als Data Scientist bei der P-2-P-Plattform https://www.kiva.org/, die vor einem Jahr gegründet wurde. Nun wollt ihr euer Geschäft erweitern. Euer Team hat sich aufgeteilt und jeder Analyst hat einen Teilbereich der Daten. Deine Aufgabe ist es in einer **explorativen Datenanalyse** Insights für eure Plattform herauszufinden. Außerdem soll ein Dashboard auf Basis dieser Erkenntnisse erstellt werden."
   ]
  },
  {
   "cell_type": "markdown",
   "id": "90f979ee",
   "metadata": {},
   "source": [
    "Konkrete Ziele dieser Aufgabe:\n",
    "- vollständige Datenaufbereitung\n",
    "- drei verschiedene, aufeinander aufbauende Diagramme (EDA-like)\n",
    "- Dashboard auf Basis eines dieser Diagramme (mit Datenauswahlmöglichkeit und daraus resultierendem Graphik-Update)"
   ]
  },
  {
   "cell_type": "markdown",
   "id": "d4307080",
   "metadata": {},
   "source": [
    "## Business Understanding"
   ]
  },
  {
   "cell_type": "markdown",
   "id": "39caf8c7",
   "metadata": {},
   "source": [
    "Euer Geschäftsmodell ist das Betreiben einer Plattform (crowd-investing) bei der sich Personen die eine Geschäftsidee haben, aber nicht das benötigte Geld, anmelden und für ihr Projekt innerhalb einer vorgegebenen Zeit Geld sammeln können. \n",
    "\n",
    "Auf der anderen Seite habt ihr Geldgeber, die gern ihr Geld in Projekte anlegen möchten und nach Investitionen suchen. \n",
    "\n",
    "Als Vermittler bringt eure Plattform also Geldnehmer und Geldgeber zusammen. \n",
    "\n",
    "Deine Datenbasis ist die Historie eurer Plattform. \n",
    "\n",
    "**Getroffene Annahmen zu dem Geschäftsmodell**\n",
    "\n",
    "Alle Projekte sind abgeschlossene Projekte, d.h. die Zeit, um für sein Projekt Geld zu sammeln ist abgelaufen. \n",
    "Euer Geschäftsmodell sieht es vor, dass die gesammelten Gelder ausgezahlt werden, auch wenn der Zielbetrag nicht erreicht wurde.\n",
    "\n",
    "Ihr verdient euer Geld mit einer Provision für jedes Projekt was auf eurer Plattform landet. \n",
    "\n",
    "Der Geldgeber erhält einen Zins für die Geldleihe."
   ]
  },
  {
   "cell_type": "markdown",
   "id": "20122590",
   "metadata": {},
   "source": [
    "## Data Understanding"
   ]
  },
  {
   "cell_type": "markdown",
   "id": "ad6b3ac1",
   "metadata": {},
   "source": [
    "- funded_amount ... mit Ablauf der \"Crowding\"zeit erhaltener Betrag/ ausgezahlter Betrag in USD\n",
    "- loan_amount ... Zielbetrag (Betrag dem man für das Projekt erreichen wollte) in USD\n",
    "- activity ... Unterkategory zu dem das Ziel des Crowdprojektes thematisch gehört\n",
    "- sector ... Oberkategory in den das Crowdprojektes Thema fällt\n",
    "- use ... Kurzbeschreibung wofür das Geld verwendet werden soll\n",
    "- country_code ... Ländercode nach ISO Norm\n",
    "- country ... Ländername nach ISO Norm\n",
    "- region ... Region\n",
    "- currency ... Währung in den der funded_amount dann ausgezahlt wurde\n",
    "- term in months ... Dauer über die der Kredit ausgezahlt werden soll\n",
    "- lender_count ...Darlehensgeber (also wieviele Personen Geld für das Projekt gegeben haben)\n",
    "- borrower_genders ... Geschlecht und Anzahl der Darlehensnehmer, also diejenigen die das Crowdprojekt initiiert haben       \n",
    "- repayment interval ... vertraglich vereinbarte Rückzahlungsmodalitäten/-rhythmus"
   ]
  }
 ],
 "metadata": {
  "kernelspec": {
   "display_name": "Python 3 (ipykernel)",
   "language": "python",
   "name": "python3"
  },
  "language_info": {
   "codemirror_mode": {
    "name": "ipython",
    "version": 3
   },
   "file_extension": ".py",
   "mimetype": "text/x-python",
   "name": "python",
   "nbconvert_exporter": "python",
   "pygments_lexer": "ipython3",
   "version": "3.11.3"
  },
  "toc": {
   "base_numbering": 1,
   "nav_menu": {},
   "number_sections": true,
   "sideBar": true,
   "skip_h1_title": false,
   "title_cell": "Table of Contents",
   "title_sidebar": "Contents",
   "toc_cell": false,
   "toc_position": {},
   "toc_section_display": true,
   "toc_window_display": false
  }
 },
 "nbformat": 4,
 "nbformat_minor": 5
}
